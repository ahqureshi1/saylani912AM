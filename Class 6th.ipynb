{
 "cells": [
  {
   "cell_type": "markdown",
   "id": "bac9fe1d-10e9-484e-9905-daf5199ad6f0",
   "metadata": {},
   "source": [
    "# Chp 19 Tuples"
   ]
  },
  {
   "cell_type": "code",
   "execution_count": 1,
   "id": "c9b05989-a0fc-4ef0-88c5-fff3ca818c4e",
   "metadata": {},
   "outputs": [
    {
     "name": "stdout",
     "output_type": "stream",
     "text": [
      "['Haseeb', 'Student', '9 to 12']\n"
     ]
    }
   ],
   "source": [
    "bio_data = ['Haseeb', 'Student', '9 to 12']\n",
    "print(bio_data)"
   ]
  },
  {
   "cell_type": "code",
   "execution_count": 2,
   "id": "62b1a405-7d65-49ec-b350-8b2e41fc03b9",
   "metadata": {},
   "outputs": [],
   "source": [
    "# In list we can change or append or edit because list is mutal (can be changed)\n",
    "# on the other hand tuples are immutable (They cannot be change once they made)"
   ]
  },
  {
   "cell_type": "code",
   "execution_count": 3,
   "id": "e2262d0b-e62b-4a5e-a3ba-2d27909c568d",
   "metadata": {},
   "outputs": [
    {
     "data": {
      "text/plain": [
       "tuple"
      ]
     },
     "execution_count": 3,
     "metadata": {},
     "output_type": "execute_result"
    }
   ],
   "source": [
    "tp_bio_data = ('Haseeb', 'Student', '9 to 12')\n",
    "type(tp_bio_data)"
   ]
  },
  {
   "cell_type": "code",
   "execution_count": 5,
   "id": "ead5d522-37ca-42e7-b473-49db6c25b5ab",
   "metadata": {},
   "outputs": [
    {
     "name": "stdout",
     "output_type": "stream",
     "text": [
      "<class 'list'>\n",
      "<class 'int'>\n"
     ]
    }
   ],
   "source": [
    "lst = [1]\n",
    "print(type(lst))\n",
    "\n",
    "tp=(1)\n",
    "print(type(tp))"
   ]
  },
  {
   "cell_type": "code",
   "execution_count": 6,
   "id": "d47210df-7247-4957-bf1c-e803a84a8517",
   "metadata": {},
   "outputs": [],
   "source": [
    "#in tuple if we have one item we have to use , after that item otherwise it will not identify the type of data."
   ]
  },
  {
   "cell_type": "code",
   "execution_count": 7,
   "id": "f13894f5-1179-4d44-9118-b1b4280d6797",
   "metadata": {},
   "outputs": [
    {
     "name": "stdout",
     "output_type": "stream",
     "text": [
      "<class 'list'>\n",
      "<class 'tuple'>\n"
     ]
    }
   ],
   "source": [
    "lst = [1]\n",
    "print(type(lst))\n",
    "\n",
    "#Here we place , after my value and it will change the type of data to tuple\n",
    "tp=(1,)\n",
    "print(type(tp))"
   ]
  },
  {
   "cell_type": "code",
   "execution_count": 8,
   "id": "5adbbfb8-1bf4-4063-9754-15091b15baa6",
   "metadata": {},
   "outputs": [
    {
     "data": {
      "text/plain": [
       "'Student'"
      ]
     },
     "execution_count": 8,
     "metadata": {},
     "output_type": "execute_result"
    }
   ],
   "source": [
    "tp_bio_data[1]"
   ]
  },
  {
   "cell_type": "code",
   "execution_count": 9,
   "id": "f4f2e2c2-87b5-4c8c-9865-36b07046d2e2",
   "metadata": {},
   "outputs": [
    {
     "data": {
      "text/plain": [
       "1"
      ]
     },
     "execution_count": 9,
     "metadata": {},
     "output_type": "execute_result"
    }
   ],
   "source": [
    "tp_bio_data.count(\"Student\")"
   ]
  },
  {
   "cell_type": "code",
   "execution_count": 11,
   "id": "5fd3ad28-9e56-4520-8192-5ddcb2c186f9",
   "metadata": {},
   "outputs": [
    {
     "data": {
      "text/plain": [
       "1"
      ]
     },
     "execution_count": 11,
     "metadata": {},
     "output_type": "execute_result"
    }
   ],
   "source": [
    "tp_bio_data.index(\"Student\")"
   ]
  },
  {
   "cell_type": "code",
   "execution_count": 14,
   "id": "4a17107d-1133-49e4-aac2-b66195ecfd27",
   "metadata": {},
   "outputs": [
    {
     "name": "stdout",
     "output_type": "stream",
     "text": [
      "2\n",
      "0\n"
     ]
    }
   ],
   "source": [
    "my_bio_data = (\"Abdul Haseeb\", 30, \"Civil Engineer\" \"5ft 2 inch\",30)\n",
    "print(my_bio_data.count(30))\n",
    "print(my_bio_data.index(\"Abdul Haseeb\"))"
   ]
  },
  {
   "cell_type": "markdown",
   "id": "1e0fd955-9443-4d59-956c-696df323fb19",
   "metadata": {},
   "source": [
    "# Loops"
   ]
  },
  {
   "cell_type": "raw",
   "id": "a90018d3-8d2f-48f3-b4d6-be3d989fd78b",
   "metadata": {},
   "source": [
    "for <temp_var> in <iterator>:\n",
    "    <body>"
   ]
  },
  {
   "cell_type": "code",
   "execution_count": 15,
   "id": "7708626a-1dd3-4aa2-a444-961979667a68",
   "metadata": {},
   "outputs": [
    {
     "name": "stdout",
     "output_type": "stream",
     "text": [
      "Apple\n",
      "Mango\n",
      "Grapes\n",
      "Banana\n"
     ]
    }
   ],
   "source": [
    "fruits = [\"Apple\", \"Mango\",\"Grapes\",\"Banana\"]\n",
    "for fruit in fruits:\n",
    "    print(fruit)"
   ]
  },
  {
   "cell_type": "code",
   "execution_count": 16,
   "id": "8a2d66a0-6e0f-4acd-8845-6d0e18f3bc8c",
   "metadata": {},
   "outputs": [
    {
     "name": "stdout",
     "output_type": "stream",
     "text": [
      "Tomato\n",
      "Potato\n",
      "Onion\n"
     ]
    }
   ],
   "source": [
    "vegetables = (\"Tomato\", \"Potato\", \"Onion\")\n",
    "for vegetable in vegetables:\n",
    "    print(vegetable)"
   ]
  },
  {
   "cell_type": "code",
   "execution_count": 22,
   "id": "39936e37-1877-4ebf-a67d-7cddb6b41314",
   "metadata": {},
   "outputs": [
    {
     "name": "stdout",
     "output_type": "stream",
     "text": [
      "your item #  0 has Apple\n",
      "your item #  1 has Mango\n",
      "your item #  2 has Grapes\n",
      "your item #  3 has Banana\n"
     ]
    }
   ],
   "source": [
    "fruits = [\"Apple\", \"Mango\",\"Grapes\",\"Banana\"]\n",
    "for fruit, x in enumerate(fruits):\n",
    "    print(f\"your item #  {fruit} has {x}\")"
   ]
  },
  {
   "cell_type": "code",
   "execution_count": 25,
   "id": "a1efbccd-9628-4a81-8113-42ee935a7189",
   "metadata": {},
   "outputs": [
    {
     "name": "stdout",
     "output_type": "stream",
     "text": [
      "Apple is at 0\n",
      "Mango is at 1\n",
      "Grapes is at 2\n",
      "Banana is at 3\n"
     ]
    }
   ],
   "source": [
    "for data in enumerate(fruits):\n",
    "    print(f\"{data[1]} is at {data[0]}\")"
   ]
  },
  {
   "cell_type": "code",
   "execution_count": 30,
   "id": "ac9edbed-3bc6-48b1-8f64-c0372ec98c2e",
   "metadata": {},
   "outputs": [
    {
     "name": "stdout",
     "output_type": "stream",
     "text": [
      "(0, 'Apple')\n",
      "(1, 'Mango')\n",
      "(2, 'Grapes')\n",
      "(3, 'Banana')\n"
     ]
    }
   ],
   "source": [
    "#Make sure index should be in sequence\n",
    "# if the index list is greater than the list of colleciton then paired tuples will be printed only.\n",
    "fruit_index = [0,1,2,3]\n",
    "for data in zip(fruit_index,fruits):\n",
    "    print(data)"
   ]
  },
  {
   "cell_type": "markdown",
   "id": "764d2ca3-1c6c-482a-b310-9c4c6c030ca5",
   "metadata": {},
   "source": [
    "# Range"
   ]
  },
  {
   "cell_type": "code",
   "execution_count": 31,
   "id": "7f616491-7091-46a8-ae45-77fe90212154",
   "metadata": {},
   "outputs": [
    {
     "name": "stdout",
     "output_type": "stream",
     "text": [
      "0\n",
      "1\n",
      "2\n",
      "3\n",
      "4\n"
     ]
    }
   ],
   "source": [
    "# Range is a generator function. which remember its previous state (means range knows which the previous value was given and what it will have to give next.)\n",
    "\n",
    "for temp in range(5):\n",
    "    print(temp)"
   ]
  },
  {
   "cell_type": "code",
   "execution_count": 34,
   "id": "4baa43dc-04cb-43a9-b30b-b390ebefe23e",
   "metadata": {},
   "outputs": [
    {
     "name": "stdout",
     "output_type": "stream",
     "text": [
      "2\n",
      "3\n",
      "4\n"
     ]
    }
   ],
   "source": [
    "for temp in range (2, 5):\n",
    "    print(temp)"
   ]
  },
  {
   "cell_type": "code",
   "execution_count": 35,
   "id": "b416b072-d206-478d-bce9-3f28dd17be26",
   "metadata": {},
   "outputs": [
    {
     "name": "stdout",
     "output_type": "stream",
     "text": [
      "2\n",
      "4\n"
     ]
    }
   ],
   "source": [
    "for temp in range(2,5,2):\n",
    "    print (temp)"
   ]
  },
  {
   "cell_type": "code",
   "execution_count": 36,
   "id": "4b647cd8-9781-47b1-b020-f79bdba962b4",
   "metadata": {},
   "outputs": [
    {
     "name": "stdout",
     "output_type": "stream",
     "text": [
      "20\n",
      "23\n"
     ]
    }
   ],
   "source": [
    "for numbers in range(20,26,3):\n",
    "    print(numbers)"
   ]
  },
  {
   "cell_type": "code",
   "execution_count": 42,
   "id": "5e389264-e861-486e-9320-c12f3c95cfc3",
   "metadata": {},
   "outputs": [
    {
     "name": "stdout",
     "output_type": "stream",
     "text": [
      "Apple\n",
      "Apple\n",
      "Apple\n",
      "Apple\n",
      "Apple\n",
      "\n"
     ]
    }
   ],
   "source": [
    "print(5*\"Apple\\n\")"
   ]
  },
  {
   "cell_type": "code",
   "execution_count": 47,
   "id": "c47fbac6-608c-40e2-ac2b-656bf26f6231",
   "metadata": {},
   "outputs": [
    {
     "data": {
      "text/plain": [
       "['A',\n",
       " 'p',\n",
       " 'p',\n",
       " 'l',\n",
       " 'e',\n",
       " 'A',\n",
       " 'p',\n",
       " 'p',\n",
       " 'l',\n",
       " 'e',\n",
       " 'A',\n",
       " 'p',\n",
       " 'p',\n",
       " 'l',\n",
       " 'e',\n",
       " 'A',\n",
       " 'p',\n",
       " 'p',\n",
       " 'l',\n",
       " 'e',\n",
       " 'A',\n",
       " 'p',\n",
       " 'p',\n",
       " 'l',\n",
       " 'e']"
      ]
     },
     "execution_count": 47,
     "metadata": {},
     "output_type": "execute_result"
    }
   ],
   "source": [
    "list(\"Apple\")*5"
   ]
  },
  {
   "cell_type": "code",
   "execution_count": 73,
   "id": "eb0d9869-651f-41d4-a8e5-0e931e3980a6",
   "metadata": {},
   "outputs": [
    {
     "name": "stdin",
     "output_type": "stream",
     "text": [
      "Whcih city is clean according to you?:  karachi\n"
     ]
    }
   ],
   "source": [
    "clean_cities = [\"Karachi\", \"Lahore\", \"Islamabad\"]\n",
    "other_cities=[]\n",
    "user_data = input(\"Whcih city is clean according to you?: \")\n",
    "for city in clean_cities:\n",
    "    if user_data == city:\n",
    "        print(\"Your city is already in clean_cities\")\n",
    "        break\n",
    "    else:\n",
    "        other_cities.append(user_data)\n"
   ]
  },
  {
   "cell_type": "code",
   "execution_count": 71,
   "id": "81c1e06d-adc7-4c19-a773-e01bd7811623",
   "metadata": {},
   "outputs": [
    {
     "name": "stdout",
     "output_type": "stream",
     "text": [
      "Karachi, 'VS',Multan\n",
      "Karachi, 'VS',Lahore\n",
      "Karachi, 'VS',Islamabad\n",
      "Quetta, 'VS',Multan\n",
      "Quetta, 'VS',Lahore\n",
      "Quetta, 'VS',Islamabad\n",
      "Peshawar, 'VS',Multan\n",
      "Peshawar, 'VS',Lahore\n",
      "Peshawar, 'VS',Islamabad\n"
     ]
    }
   ],
   "source": [
    "Group_A = [\"Karachi\", \"Quetta\", \"Peshawar\"]\n",
    "Group_B = [\"Multan\", \"Lahore\", \"Islamabad\"]\n",
    "\n",
    "for a in Group_A:\n",
    "    for b in Group_B:\n",
    "        print(F\"{a}, 'VS',{b}\")\n",
    "        "
   ]
  },
  {
   "cell_type": "markdown",
   "id": "ec780f8f-7254-4a86-a4b2-e668e0ea9ca9",
   "metadata": {},
   "source": [
    "# Casing"
   ]
  },
  {
   "cell_type": "code",
   "execution_count": 62,
   "id": "40e3d5b0-8e36-4aa5-bc3b-9296a1d5441c",
   "metadata": {},
   "outputs": [
    {
     "data": {
      "text/plain": [
       "'ABDUL HASEEB'"
      ]
     },
     "execution_count": 62,
     "metadata": {},
     "output_type": "execute_result"
    }
   ],
   "source": [
    "\"abdul haseeb\".upper()"
   ]
  },
  {
   "cell_type": "code",
   "execution_count": 63,
   "id": "42f703fd-c4d7-4533-8b8d-e919d6b798cc",
   "metadata": {},
   "outputs": [
    {
     "data": {
      "text/plain": [
       "'abdul haseeb'"
      ]
     },
     "execution_count": 63,
     "metadata": {},
     "output_type": "execute_result"
    }
   ],
   "source": [
    "\"abdul haseeb\".lower()"
   ]
  },
  {
   "cell_type": "code",
   "execution_count": 64,
   "id": "e833cda6-3720-4c20-8c39-0238fd5ed9cb",
   "metadata": {},
   "outputs": [
    {
     "data": {
      "text/plain": [
       "'Abdul Haseeb'"
      ]
     },
     "execution_count": 64,
     "metadata": {},
     "output_type": "execute_result"
    }
   ],
   "source": [
    "\"abdul haseeb\".title()"
   ]
  },
  {
   "cell_type": "markdown",
   "id": "dd7a906b-1386-48fc-a926-4da9df0995e7",
   "metadata": {},
   "source": [
    "# Dictionaries"
   ]
  },
  {
   "cell_type": "code",
   "execution_count": 65,
   "id": "59b50d38-41b0-4c9a-9f79-4c99f2f3ceff",
   "metadata": {},
   "outputs": [
    {
     "name": "stdout",
     "output_type": "stream",
     "text": [
      "<class 'dict'>\n"
     ]
    }
   ],
   "source": [
    "# key:value \n",
    "dict = {'age':15, 'weight':15}\n",
    "print(type(dict))"
   ]
  },
  {
   "cell_type": "code",
   "execution_count": 66,
   "id": "5694544c-fa81-4246-b97e-e16f835c0be4",
   "metadata": {},
   "outputs": [
    {
     "data": {
      "text/plain": [
       "15"
      ]
     },
     "execution_count": 66,
     "metadata": {},
     "output_type": "execute_result"
    }
   ],
   "source": [
    "dict['age']"
   ]
  },
  {
   "cell_type": "code",
   "execution_count": 77,
   "id": "5cfe36f5-7e97-4728-bdcc-97e4b96aa119",
   "metadata": {},
   "outputs": [
    {
     "data": {
      "text/plain": [
       "'4803 Wellesley St.'"
      ]
     },
     "execution_count": 77,
     "metadata": {},
     "output_type": "execute_result"
    }
   ],
   "source": [
    "customer = {\"first name\": \"David\", \n",
    "            \"last name\": \"Elliott\", \n",
    "            \"address\": \"4803 Wellesley St.\"}\n",
    "customer['address']"
   ]
  },
  {
   "cell_type": "code",
   "execution_count": 80,
   "id": "25aeb656-18ae-4828-9ffd-aaac06ed61f5",
   "metadata": {},
   "outputs": [
    {
     "data": {
      "text/plain": [
       "'Hassan'"
      ]
     },
     "execution_count": 80,
     "metadata": {},
     "output_type": "execute_result"
    }
   ],
   "source": [
    "#Keys can be a number\n",
    "dict_vers1 = {\n",
    "                    1:\"Qasim\",\n",
    "                    2:\"Hassan\",\n",
    "                    3:\"Ali\"\n",
    "                    }\n",
    "dict_vers1[2]"
   ]
  },
  {
   "cell_type": "code",
   "execution_count": 83,
   "id": "c4b82b7b-748b-4995-8cfc-b5b671fde4f8",
   "metadata": {},
   "outputs": [
    {
     "data": {
      "text/plain": [
       "2"
      ]
     },
     "execution_count": 83,
     "metadata": {},
     "output_type": "execute_result"
    }
   ],
   "source": [
    "#String can be used as keys\n",
    "dict_vers2 = {\n",
    "                    \"Qasim\":1,\n",
    "                    \"Hassan\":2,\n",
    "                    \"Ali\":3\n",
    "                    }\n",
    "dict_vers2[\"Hassan\"]"
   ]
  },
  {
   "cell_type": "code",
   "execution_count": 84,
   "id": "6e8b4269-660e-442e-9146-ad0d607b9afc",
   "metadata": {},
   "outputs": [
    {
     "name": "stdout",
     "output_type": "stream",
     "text": [
      "{'first name': 'David', 'last name': 'Elliott', 'address': '4803 Wellesley St.', 'Phone': '03128281234'}\n"
     ]
    }
   ],
   "source": [
    "customer[\"Phone\"]=\"03128281234\"\n",
    "print(customer)"
   ]
  },
  {
   "cell_type": "code",
   "execution_count": 86,
   "id": "13d569f4-35cd-4fd5-9506-8057f0738a6c",
   "metadata": {},
   "outputs": [
    {
     "name": "stdout",
     "output_type": "stream",
     "text": [
      "{'first name': 'David', 'last name': 'Elliott', 'address': '4803 Wellesley St.', 'Phone': '03128281234', 'city': 'Karachi'}\n"
     ]
    }
   ],
   "source": [
    "customer[\"city\"]=\"Karachi\"\n",
    "print(customer)"
   ]
  },
  {
   "cell_type": "code",
   "execution_count": 101,
   "id": "fcaa8f1d-1656-479e-a1f1-464ca15aa1cb",
   "metadata": {},
   "outputs": [
    {
     "name": "stdin",
     "output_type": "stream",
     "text": [
      "How many task you want to do?  1\n",
      "Write about task a\n"
     ]
    },
    {
     "ename": "TypeError",
     "evalue": "can only concatenate str (not \"list\") to str",
     "output_type": "error",
     "traceback": [
      "\u001b[1;31m---------------------------------------------------------------------------\u001b[0m",
      "\u001b[1;31mTypeError\u001b[0m                                 Traceback (most recent call last)",
      "Cell \u001b[1;32mIn[101], line 5\u001b[0m\n\u001b[0;32m      3\u001b[0m \u001b[38;5;28;01mfor\u001b[39;00m work \u001b[38;5;129;01min\u001b[39;00m \u001b[38;5;28mrange\u001b[39m(total_task):\n\u001b[0;32m      4\u001b[0m     a \u001b[38;5;241m=\u001b[39m \u001b[38;5;28minput\u001b[39m(\u001b[38;5;124m\"\u001b[39m\u001b[38;5;124mWrite about task\u001b[39m\u001b[38;5;124m\"\u001b[39m)\n\u001b[1;32m----> 5\u001b[0m     task_dic[\u001b[38;5;124m'\u001b[39m\u001b[38;5;124mTask\u001b[39m\u001b[38;5;124m'\u001b[39m\u001b[38;5;241m+\u001b[39m[work]\u001b[38;5;241m==\u001b[39ma[work]]\n\u001b[0;32m      6\u001b[0m \u001b[38;5;28mprint\u001b[39m(task)\n",
      "\u001b[1;31mTypeError\u001b[0m: can only concatenate str (not \"list\") to str"
     ]
    }
   ],
   "source": [
    "# check this\n",
    "task_dic={}\n",
    "total_task = int(input(\"How many task you want to do? \"))\n",
    "for work in range(total_task):\n",
    "    a = input(\"Write about task\")\n",
    "    task_dic['Task'+[work]==a[work]]\n",
    "print(task)"
   ]
  },
  {
   "cell_type": "code",
   "execution_count": 102,
   "id": "307a6195-875f-462f-9746-b8f0736bf9bd",
   "metadata": {},
   "outputs": [
    {
     "name": "stdout",
     "output_type": "stream",
     "text": [
      "first name\n",
      "last name\n",
      "address\n",
      "Phone\n",
      "city\n"
     ]
    }
   ],
   "source": [
    "# By default we get keys\n",
    "for temp in customer:\n",
    "    print(temp)"
   ]
  },
  {
   "cell_type": "code",
   "execution_count": 104,
   "id": "02e4d7af-3616-4dc8-ab3b-1499c09533a9",
   "metadata": {},
   "outputs": [
    {
     "name": "stdout",
     "output_type": "stream",
     "text": [
      "David\n",
      "Elliott\n",
      "4803 Wellesley St.\n",
      "03128281234\n",
      "Karachi\n"
     ]
    }
   ],
   "source": [
    "# for values of keys \n",
    "for temp in customer.values():\n",
    "    print(temp)"
   ]
  },
  {
   "cell_type": "code",
   "execution_count": 109,
   "id": "a2486a70-55e4-4586-9f06-ebe066867415",
   "metadata": {},
   "outputs": [
    {
     "name": "stdout",
     "output_type": "stream",
     "text": [
      "('first name', 'David')\n",
      "('last name', 'Elliott')\n",
      "('address', '4803 Wellesley St.')\n",
      "('Phone', '03128281234')\n",
      "('city', 'Karachi')\n"
     ]
    }
   ],
   "source": [
    "for temp in customer.items():\n",
    "    print(temp)\n",
    "    "
   ]
  },
  {
   "cell_type": "code",
   "execution_count": 108,
   "id": "c9a12c41-6e0d-4c00-9eff-958c93bff648",
   "metadata": {},
   "outputs": [
    {
     "name": "stdout",
     "output_type": "stream",
     "text": [
      "first name ----> David\n",
      "last name ----> Elliott\n",
      "address ----> 4803 Wellesley St.\n",
      "Phone ----> 03128281234\n",
      "city ----> Karachi\n"
     ]
    }
   ],
   "source": [
    "for key, value in customer.items():\n",
    "    print(key,\"---->\",value)"
   ]
  },
  {
   "cell_type": "code",
   "execution_count": 122,
   "id": "e048d7b1-238e-4f54-af83-90daffd7c413",
   "metadata": {},
   "outputs": [
    {
     "name": "stdout",
     "output_type": "stream",
     "text": [
      "Pakistan\n",
      "Pakistan\n",
      "Pakistan\n"
     ]
    }
   ],
   "source": [
    "list_of_dict = [{\"first name\":\"David\",\n",
    "                 \"last name\":\"Ellli\",\n",
    "                 \"address\":\"Pakistan\"   \n",
    "                    },\n",
    "               {'first name':'Qasim',\n",
    "                 'last name':'Elllit',\n",
    "                 'address':'Pakistan'},\n",
    "                {'first name':'Ali',\n",
    "                 'last name':'Elitt',\n",
    "                 'address':'Pakistan'}]\n",
    "for i in range(len(list_of_dict)):\n",
    "    print(list_of_dict[i][\"address\"])\n"
   ]
  },
  {
   "cell_type": "code",
   "execution_count": null,
   "id": "212418eb-850f-4e61-8376-fd156189f6d2",
   "metadata": {},
   "outputs": [],
   "source": []
  }
 ],
 "metadata": {
  "kernelspec": {
   "display_name": "Python 3 (ipykernel)",
   "language": "python",
   "name": "python3"
  },
  "language_info": {
   "codemirror_mode": {
    "name": "ipython",
    "version": 3
   },
   "file_extension": ".py",
   "mimetype": "text/x-python",
   "name": "python",
   "nbconvert_exporter": "python",
   "pygments_lexer": "ipython3",
   "version": "3.11.7"
  }
 },
 "nbformat": 4,
 "nbformat_minor": 5
}
