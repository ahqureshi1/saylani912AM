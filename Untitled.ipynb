{
 "cells": [
  {
   "cell_type": "markdown",
   "id": "7b39f460-712a-48f0-b9dd-97b209b097d6",
   "metadata": {},
   "source": [
    "# NOTEBOOK\n",
    "\n",
    "1. esc + A Cell above\n",
    "2. esc + b cell below\n",
    "3. esc + dd delete cell\n",
    "4. Shift + Enter (Run Cell)"
   ]
  },
  {
   "cell_type": "code",
   "execution_count": 1,
   "id": "51c51f0b-e062-41c0-8351-22c927515bdf",
   "metadata": {},
   "outputs": [
    {
     "name": "stdout",
     "output_type": "stream",
     "text": [
      "Hello World\n"
     ]
    }
   ],
   "source": [
    "print(\"Hello World\")"
   ]
  },
  {
   "cell_type": "code",
   "execution_count": 3,
   "id": "872b9857-7e7c-4bfa-945e-127cfbcd5ae0",
   "metadata": {},
   "outputs": [
    {
     "name": "stdin",
     "output_type": "stream",
     "text": [
      "What is your name? Haseeb\n"
     ]
    },
    {
     "name": "stdout",
     "output_type": "stream",
     "text": [
      "Haseeb\n"
     ]
    }
   ],
   "source": [
    "print(input(\"What is your name?\"))"
   ]
  },
  {
   "cell_type": "code",
   "execution_count": 4,
   "id": "258cbbe0-daeb-40fa-98cd-f8482ed11d2f",
   "metadata": {},
   "outputs": [
    {
     "name": "stdout",
     "output_type": "stream",
     "text": [
      "Welcome to roller coaster ride\n"
     ]
    },
    {
     "name": "stdin",
     "output_type": "stream",
     "text": [
      "What is your height in cm?  110\n"
     ]
    },
    {
     "name": "stdout",
     "output_type": "stream",
     "text": [
      "Sorry you need to grow taller before you can ride\n"
     ]
    }
   ],
   "source": [
    "print(\"Welcome to roller coaster ride\")\n",
    "height=(int(input(\"What is your height in cm? \")))\n",
    "if height >= 120:\n",
    "    print(\"you can ride the rollercoaster\")\n",
    "else:\n",
    "    print(\"Sorry you need to grow taller before you can ride\")"
   ]
  },
  {
   "cell_type": "code",
   "execution_count": null,
   "id": "16f1bd01-f336-4c30-b205-d69bcf407c3f",
   "metadata": {},
   "outputs": [],
   "source": []
  }
 ],
 "metadata": {
  "kernelspec": {
   "display_name": "Python 3 (ipykernel)",
   "language": "python",
   "name": "python3"
  },
  "language_info": {
   "codemirror_mode": {
    "name": "ipython",
    "version": 3
   },
   "file_extension": ".py",
   "mimetype": "text/x-python",
   "name": "python",
   "nbconvert_exporter": "python",
   "pygments_lexer": "ipython3",
   "version": "3.11.7"
  }
 },
 "nbformat": 4,
 "nbformat_minor": 5
}
