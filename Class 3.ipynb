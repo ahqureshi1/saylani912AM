{
 "cells": [
  {
   "cell_type": "markdown",
   "id": "9f98760f-dd5e-458d-a57d-7e1dcccb1c0f",
   "metadata": {},
   "source": [
    "## Concatination with dot format"
   ]
  },
  {
   "cell_type": "code",
   "execution_count": 1,
   "id": "89cfc527-789a-4143-a819-a95bedc59658",
   "metadata": {},
   "outputs": [],
   "source": [
    "f_name = \"Abdul Haseeb\" #String\n",
    "l_name = \"Qureshi\" #string\n",
    "age = 35 #integer\n",
    "weight = 35.5 #Float\n",
    "is_trainer = False #Boolean"
   ]
  },
  {
   "cell_type": "code",
   "execution_count": 9,
   "id": "71ea594c-e82f-4fd3-a614-becb55bef0bd",
   "metadata": {},
   "outputs": [
    {
     "data": {
      "text/plain": [
       "'My trainer name is Abdul Haseeb Qureshi'"
      ]
     },
     "execution_count": 9,
     "metadata": {},
     "output_type": "execute_result"
    }
   ],
   "source": [
    "#Method 1 of Concatination\n",
    "\"My trainer name is \" + f_name + \" \"+ l_name"
   ]
  },
  {
   "cell_type": "code",
   "execution_count": 11,
   "id": "b4adf99c-b8e7-42fb-bf5c-ae83f2c33a2d",
   "metadata": {},
   "outputs": [
    {
     "data": {
      "text/plain": [
       "'Trainer Name of Python class is Abdul Haseeb Qureshi'"
      ]
     },
     "execution_count": 11,
     "metadata": {},
     "output_type": "execute_result"
    }
   ],
   "source": [
    "#Method 2 of Concatination\n",
    "f\"Trainer Name of Python class is {f_name} {l_name}\""
   ]
  },
  {
   "cell_type": "code",
   "execution_count": 12,
   "id": "e988d9eb-ff6d-4b11-8fb0-53cb46ea130a",
   "metadata": {},
   "outputs": [
    {
     "data": {
      "text/plain": [
       "'Trainer Name of Python Class is Abdul Haseeb Qureshi'"
      ]
     },
     "execution_count": 12,
     "metadata": {},
     "output_type": "execute_result"
    }
   ],
   "source": [
    "#Method 3 of Concatination\n",
    "\"Trainer Name of Python Class is {0} {1}\".format(f_name,l_name)"
   ]
  },
  {
   "cell_type": "markdown",
   "id": "30b641b1-66ed-43ee-8104-cddef9598646",
   "metadata": {},
   "source": [
    "## Conditional Statements"
   ]
  },
  {
   "cell_type": "code",
   "execution_count": 22,
   "id": "9077ecea-f081-47ec-a2f2-72e24bd377ee",
   "metadata": {},
   "outputs": [
    {
     "name": "stdout",
     "output_type": "stream",
     "text": [
      "Pak wins\n"
     ]
    }
   ],
   "source": [
    "result = 60\n",
    "if result>=60:\n",
    "    print(\"Pak wins\")\n",
    "elif result == 50:\n",
    "    print(\"Draw the match\")\n",
    "else:\n",
    "    print(\"Pak lose\")\n",
    "    "
   ]
  },
  {
   "cell_type": "code",
   "execution_count": 48,
   "id": "99792653-c318-4c07-95e9-ba82b3f1c5b6",
   "metadata": {},
   "outputs": [
    {
     "name": "stdin",
     "output_type": "stream",
     "text": [
      "Enter your car name:  Corolla\n"
     ]
    },
    {
     "name": "stdout",
     "output_type": "stream",
     "text": [
      "You choose a good car and it is Corolla\n"
     ]
    }
   ],
   "source": [
    "car = input(\"Enter your car name: \")\n",
    "if car == \"Corolla\":\n",
    "    print(f\"You choose a good car and it is {car}\")\n",
    "elif car == \"Civic\":\n",
    "    print(f\"its an expensive Car and it is {car}\")\n",
    "else:\n",
    "    print(\"You inserted a wrong model\")\n"
   ]
  },
  {
   "cell_type": "code",
   "execution_count": 44,
   "id": "403f0330-b928-439b-a0bc-9f3e73c57bbd",
   "metadata": {},
   "outputs": [
    {
     "name": "stdout",
     "output_type": "stream",
     "text": [
      "Your grade is F\n"
     ]
    }
   ],
   "source": [
    "marks = 50 static/hard code\n",
    "if marks >=80:\n",
    "    print(\"your grades is A\")\n",
    "elif marks>=70:\n",
    "    print(\"Your grade is B\")\n",
    "elif marks>=60:\n",
    "    print(\"Your grade is C\")\n",
    "elif marks>50:\n",
    "    print(\"Your grade is D\")\n",
    "else:\n",
    "    print(\"Your grade is F\")\n"
   ]
  },
  {
   "cell_type": "markdown",
   "id": "7fbb5818-9ebc-4f38-a3ad-2703ba9bf148",
   "metadata": {},
   "source": []
  },
  {
   "cell_type": "code",
   "execution_count": 47,
   "id": "5c368221-119e-4212-89fa-9a19478ef662",
   "metadata": {},
   "outputs": [
    {
     "name": "stdin",
     "output_type": "stream",
     "text": [
      "What are your marks?\n",
      " 45\n"
     ]
    },
    {
     "name": "stdout",
     "output_type": "stream",
     "text": [
      "Your grade is F\n"
     ]
    }
   ],
   "source": [
    "marks = int(input(\"What are your marks?\\n\"))\n",
    "if marks >=80:\n",
    "    print(\"your grades is A\")\n",
    "elif marks>=70:\n",
    "    print(\"Your grade is B\")\n",
    "elif marks>=60:\n",
    "    print(\"Your grade is C\")\n",
    "elif marks>50:\n",
    "    print(\"Your grade is D\")\n",
    "else:\n",
    "    print(\"Your grade is F\")"
   ]
  },
  {
   "cell_type": "code",
   "execution_count": 49,
   "id": "1568760c-ce34-4f74-b4bd-0bd96a6b159e",
   "metadata": {},
   "outputs": [
    {
     "ename": "SyntaxError",
     "evalue": "invalid syntax (485178145.py, line 1)",
     "output_type": "error",
     "traceback": [
      "\u001b[1;36m  Cell \u001b[1;32mIn[49], line 1\u001b[1;36m\u001b[0m\n\u001b[1;33m    A B AND OR\u001b[0m\n\u001b[1;37m      ^\u001b[0m\n\u001b[1;31mSyntaxError\u001b[0m\u001b[1;31m:\u001b[0m invalid syntax\n"
     ]
    }
   ],
   "source": [
    "A B AND OR\n",
    "0 0 0   0\n",
    "1 0 0   1\n",
    "0 1 0   1\n",
    "1 1 1   1"
   ]
  },
  {
   "cell_type": "code",
   "execution_count": 52,
   "id": "1ef25da7-6a91-4760-888b-9f61075656e1",
   "metadata": {},
   "outputs": [
    {
     "name": "stdin",
     "output_type": "stream",
     "text": [
      "Enter your percentage:  45\n",
      "Enter your age:  50\n"
     ]
    },
    {
     "name": "stdout",
     "output_type": "stream",
     "text": [
      "You are not eligible to take admission in university\n"
     ]
    }
   ],
   "source": [
    "percentage_inter = int(input(\"Enter your percentage: \"))\n",
    "age_limit=int(input(\"Enter your age: \"))\n",
    "if (percentage_inter>60) and (age_limit>18):\n",
    "    print(\"You are eligible to take admission in university\")\n",
    "else:\n",
    "    print(\"You are not eligible to take admission in university\")\n"
   ]
  },
  {
   "cell_type": "code",
   "execution_count": null,
   "id": "ba43a6d2-771e-40d2-9f5f-148727d15f7a",
   "metadata": {},
   "outputs": [],
   "source": []
  }
 ],
 "metadata": {
  "kernelspec": {
   "display_name": "Python 3 (ipykernel)",
   "language": "python",
   "name": "python3"
  },
  "language_info": {
   "codemirror_mode": {
    "name": "ipython",
    "version": 3
   },
   "file_extension": ".py",
   "mimetype": "text/x-python",
   "name": "python",
   "nbconvert_exporter": "python",
   "pygments_lexer": "ipython3",
   "version": "3.11.7"
  }
 },
 "nbformat": 4,
 "nbformat_minor": 5
}
