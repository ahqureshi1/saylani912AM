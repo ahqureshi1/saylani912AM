{
 "cells": [
  {
   "cell_type": "markdown",
   "metadata": {},
   "source": [
    "#### List\n",
    "- mutal (can be change)"
   ]
  },
  {
   "cell_type": "code",
   "execution_count": 6,
   "metadata": {},
   "outputs": [],
   "source": [
    "bio_data = ['Qasim', 'Trainer', '9to12']"
   ]
  },
  {
   "cell_type": "code",
   "execution_count": 7,
   "metadata": {},
   "outputs": [
    {
     "data": {
      "text/plain": [
       "['Qasim', 'Trainer', '9to12']"
      ]
     },
     "execution_count": 7,
     "metadata": {},
     "output_type": "execute_result"
    }
   ],
   "source": [
    "bio_data"
   ]
  },
  {
   "cell_type": "markdown",
   "metadata": {},
   "source": [
    "#### Tuples\n",
    "- immutable (can't be change)"
   ]
  },
  {
   "cell_type": "code",
   "execution_count": 8,
   "metadata": {},
   "outputs": [],
   "source": [
    "tp_bio_data = ('Qasim', 'Trainer', '9to12')"
   ]
  },
  {
   "cell_type": "code",
   "execution_count": 9,
   "metadata": {},
   "outputs": [
    {
     "data": {
      "text/plain": [
       "tuple"
      ]
     },
     "execution_count": 9,
     "metadata": {},
     "output_type": "execute_result"
    }
   ],
   "source": [
    "type(tp_bio_data)"
   ]
  },
  {
   "cell_type": "code",
   "execution_count": 10,
   "metadata": {},
   "outputs": [
    {
     "name": "stdout",
     "output_type": "stream",
     "text": [
      "<class 'list'>\n",
      "<class 'tuple'>\n"
     ]
    }
   ],
   "source": [
    "lst = [1]\n",
    "print(type(lst))\n",
    "\n",
    "tp = (1,)\n",
    "print(type(tp))"
   ]
  },
  {
   "cell_type": "code",
   "execution_count": 11,
   "metadata": {},
   "outputs": [
    {
     "data": {
      "text/plain": [
       "'Trainer'"
      ]
     },
     "execution_count": 11,
     "metadata": {},
     "output_type": "execute_result"
    }
   ],
   "source": [
    "tp_bio_data[1]"
   ]
  },
  {
   "cell_type": "code",
   "execution_count": 12,
   "metadata": {},
   "outputs": [
    {
     "data": {
      "text/plain": [
       "1"
      ]
     },
     "execution_count": 12,
     "metadata": {},
     "output_type": "execute_result"
    }
   ],
   "source": [
    "tp_bio_data.count('Qasim')"
   ]
  },
  {
   "cell_type": "code",
   "execution_count": 13,
   "metadata": {},
   "outputs": [
    {
     "data": {
      "text/plain": [
       "0"
      ]
     },
     "execution_count": 13,
     "metadata": {},
     "output_type": "execute_result"
    }
   ],
   "source": [
    "tp_bio_data.index('Qasim')"
   ]
  },
  {
   "cell_type": "code",
   "execution_count": 14,
   "metadata": {},
   "outputs": [
    {
     "name": "stdout",
     "output_type": "stream",
     "text": [
      "1\n",
      "1\n"
     ]
    }
   ],
   "source": [
    "persona_bio = ('Dawood', 19, '5.7 feet', 19)\n",
    "print(persona_bio.index(19))\n",
    "print(persona_bio.count('Dawood'))"
   ]
  },
  {
   "cell_type": "markdown",
   "metadata": {},
   "source": [
    "#### Loops"
   ]
  },
  {
   "cell_type": "code",
   "execution_count": 15,
   "metadata": {},
   "outputs": [
    {
     "data": {
      "text/plain": [
       "['Apple', 'Mango', 'Grapes', 'Banana']"
      ]
     },
     "execution_count": 15,
     "metadata": {},
     "output_type": "execute_result"
    }
   ],
   "source": [
    "fruits = ['Apple', 'Mango', 'Grapes', 'Banana']\n",
    "fruits"
   ]
  },
  {
   "cell_type": "code",
   "execution_count": 16,
   "metadata": {},
   "outputs": [
    {
     "data": {
      "text/plain": [
       "('Apple', 'Mango')"
      ]
     },
     "execution_count": 16,
     "metadata": {},
     "output_type": "execute_result"
    }
   ],
   "source": [
    "fruits[0], fruits[1]"
   ]
  },
  {
   "cell_type": "code",
   "execution_count": 17,
   "metadata": {},
   "outputs": [
    {
     "data": {
      "text/plain": [
       "'\\nfor <temp_var> in <iterator>:\\n    <body>\\n'"
      ]
     },
     "execution_count": 17,
     "metadata": {},
     "output_type": "execute_result"
    }
   ],
   "source": [
    "'''\n",
    "for <temp_var> in <iterator>:\n",
    "    <body>\n",
    "'''"
   ]
  },
  {
   "cell_type": "code",
   "execution_count": 18,
   "metadata": {},
   "outputs": [
    {
     "name": "stdout",
     "output_type": "stream",
     "text": [
      "Apple\n",
      "Mango\n",
      "Grapes\n",
      "Banana\n"
     ]
    }
   ],
   "source": [
    "for fruit in fruits:\n",
    "    print(fruit)"
   ]
  },
  {
   "cell_type": "code",
   "execution_count": 19,
   "metadata": {},
   "outputs": [
    {
     "name": "stdout",
     "output_type": "stream",
     "text": [
      "Qasim\n",
      "Trainer\n",
      "9to12\n"
     ]
    }
   ],
   "source": [
    "for data in bio_data:\n",
    "    print(data)"
   ]
  },
  {
   "cell_type": "code",
   "execution_count": 20,
   "metadata": {},
   "outputs": [
    {
     "name": "stdout",
     "output_type": "stream",
     "text": [
      "<enumerate object at 0x0000027818859760>\n"
     ]
    }
   ],
   "source": [
    "em_fruits = enumerate(fruits)\n",
    "print(em_fruits)"
   ]
  },
  {
   "cell_type": "code",
   "execution_count": 21,
   "metadata": {},
   "outputs": [
    {
     "name": "stdout",
     "output_type": "stream",
     "text": [
      "[(0, 'Apple'), (1, 'Mango'), (2, 'Grapes'), (3, 'Banana')]\n"
     ]
    }
   ],
   "source": [
    "print(list(em_fruits))\n",
    "# [(0, 'Apple'), (1, \"Mango\"), (2, \"Grapes\"), (3, \"Banana\")]"
   ]
  },
  {
   "cell_type": "code",
   "execution_count": 22,
   "metadata": {},
   "outputs": [
    {
     "name": "stdout",
     "output_type": "stream",
     "text": [
      "Apple is at 0\n",
      "Mango is at 1\n",
      "Grapes is at 2\n",
      "Banana is at 3\n"
     ]
    }
   ],
   "source": [
    "for data in enumerate(fruits):\n",
    "    print(f\"{data[1]} is at {data[0]}\")"
   ]
  },
  {
   "cell_type": "code",
   "execution_count": 23,
   "metadata": {},
   "outputs": [
    {
     "name": "stdout",
     "output_type": "stream",
     "text": [
      "[2, 1, 4, 3, 5]\n"
     ]
    },
    {
     "data": {
      "text/plain": [
       "['Apple', 'Mango', 'Grapes', 'Banana']"
      ]
     },
     "execution_count": 23,
     "metadata": {},
     "output_type": "execute_result"
    }
   ],
   "source": [
    "# 1. make sure index should be in sequence\n",
    "# 2. if the index list greate than the list of collection\n",
    "# then paried tuples will be printed\n",
    "fruits_index = [2,1,4,3,5] \n",
    "print(fruits_index)\n",
    "fruits"
   ]
  },
  {
   "cell_type": "code",
   "execution_count": 24,
   "metadata": {},
   "outputs": [
    {
     "name": "stdout",
     "output_type": "stream",
     "text": [
      "2\n",
      "1\n",
      "4\n",
      "3\n"
     ]
    }
   ],
   "source": [
    "for data in zip(fruits_index, fruits):\n",
    "    print(data[0])"
   ]
  },
  {
   "cell_type": "code",
   "execution_count": 25,
   "metadata": {},
   "outputs": [
    {
     "name": "stdout",
     "output_type": "stream",
     "text": [
      "0\n",
      "1\n",
      "2\n",
      "3\n",
      "4\n"
     ]
    }
   ],
   "source": [
    "for temp in range(5):\n",
    "    print(temp)"
   ]
  },
  {
   "cell_type": "code",
   "execution_count": 26,
   "metadata": {},
   "outputs": [
    {
     "name": "stdout",
     "output_type": "stream",
     "text": [
      "2\n",
      "3\n",
      "4\n"
     ]
    }
   ],
   "source": [
    "for temp in range(2, 5):\n",
    "    print(temp)"
   ]
  },
  {
   "cell_type": "code",
   "execution_count": 27,
   "metadata": {},
   "outputs": [
    {
     "name": "stdout",
     "output_type": "stream",
     "text": [
      "2\n",
      "4\n"
     ]
    }
   ],
   "source": [
    "'''\n",
    "stop (exclusive) by step. range(i, j)\n",
    ">> produces i, i+1, i+2, ..., j-1.\n",
    "\n",
    "range(stop) -> range object range(start, stop[, step]) -> range object\n",
    "'''\n",
    "\n",
    "for temp in range(2, 5, 2):\n",
    "    print(temp)"
   ]
  },
  {
   "cell_type": "code",
   "execution_count": 28,
   "metadata": {},
   "outputs": [
    {
     "ename": "TypeError",
     "evalue": "'str' object cannot be interpreted as an integer",
     "output_type": "error",
     "traceback": [
      "\u001b[1;31m---------------------------------------------------------------------------\u001b[0m",
      "\u001b[1;31mTypeError\u001b[0m                                 Traceback (most recent call last)",
      "Cell \u001b[1;32mIn[28], line 1\u001b[0m\n\u001b[1;32m----> 1\u001b[0m \u001b[38;5;28;01mfor\u001b[39;00m temp \u001b[38;5;129;01min\u001b[39;00m \u001b[38;5;28;43mrange\u001b[39;49m\u001b[43m(\u001b[49m\u001b[38;5;124;43m\"\u001b[39;49m\u001b[38;5;124;43mApple\u001b[39;49m\u001b[38;5;124;43m\"\u001b[39;49m\u001b[43m,\u001b[49m\u001b[43m \u001b[49m\u001b[38;5;241;43m15\u001b[39;49m\u001b[43m)\u001b[49m:\n\u001b[0;32m      2\u001b[0m     \u001b[38;5;28mprint\u001b[39m(temp)\n",
      "\u001b[1;31mTypeError\u001b[0m: 'str' object cannot be interpreted as an integer"
     ]
    }
   ],
   "source": [
    "for temp in range(\"Apple\", 15):\n",
    "    print(temp)"
   ]
  },
  {
   "cell_type": "code",
   "execution_count": null,
   "metadata": {},
   "outputs": [
    {
     "name": "stdout",
     "output_type": "stream",
     "text": [
      "apple\n",
      "apple\n",
      "apple\n",
      "apple\n",
      "apple\n"
     ]
    }
   ],
   "source": [
    "for i in range(5):\n",
    "    print('apple')"
   ]
  },
  {
   "cell_type": "markdown",
   "metadata": {},
   "source": [
    "#### "
   ]
  },
  {
   "cell_type": "code",
   "execution_count": null,
   "metadata": {},
   "outputs": [
    {
     "name": "stdout",
     "output_type": "stream",
     "text": [
      "Apples\n",
      "Apples\n",
      "Apples\n",
      "Apples\n",
      "Apples\n",
      "\n"
     ]
    }
   ],
   "source": [
    "print(\"Apples\\n\"*5)"
   ]
  },
  {
   "cell_type": "code",
   "execution_count": null,
   "metadata": {},
   "outputs": [],
   "source": [
    "group_A = ['Karachi', 'Lahore', 'Islamabad']\n",
    "group_B = []"
   ]
  },
  {
   "cell_type": "code",
   "execution_count": null,
   "metadata": {},
   "outputs": [],
   "source": [
    "user_input = input(\"Enter your Home City for Cricket Matach: \")\n",
    "\n",
    "if user_input in group_A:\n",
    "    print(\"Your city is already in group_A\")\n",
    "else:\n",
    "    group_B.append(user_input)"
   ]
  },
  {
   "cell_type": "code",
   "execution_count": null,
   "metadata": {},
   "outputs": [
    {
     "data": {
      "text/plain": [
       "['Multan', 'Quetta', 'Peshawar']"
      ]
     },
     "execution_count": 72,
     "metadata": {},
     "output_type": "execute_result"
    }
   ],
   "source": [
    "group_B"
   ]
  },
  {
   "cell_type": "code",
   "execution_count": null,
   "metadata": {},
   "outputs": [
    {
     "data": {
      "text/plain": [
       "['Karachi', 'Lahore', 'Islamabad']"
      ]
     },
     "execution_count": 73,
     "metadata": {},
     "output_type": "execute_result"
    }
   ],
   "source": [
    "group_A"
   ]
  },
  {
   "cell_type": "code",
   "execution_count": null,
   "metadata": {},
   "outputs": [
    {
     "name": "stdout",
     "output_type": "stream",
     "text": [
      "Karachi   VS   Multan\n",
      "Karachi   VS   Quetta\n",
      "Karachi   VS   Peshawar\n",
      "Lahore   VS   Multan\n",
      "Lahore   VS   Quetta\n",
      "Lahore   VS   Peshawar\n",
      "Islamabad   VS   Multan\n",
      "Islamabad   VS   Quetta\n",
      "Islamabad   VS   Peshawar\n"
     ]
    }
   ],
   "source": [
    "for a in range(len(group_A)):\n",
    "    for b in range(len(group_B)):\n",
    "        print(group_A[a], '  VS  ', group_B[b])\n",
    "        if group_A[a] == group_B[b]:\n",
    "            print(\"Matched\")\n",
    "            break"
   ]
  },
  {
   "cell_type": "markdown",
   "metadata": {},
   "source": [
    "#### Casing \n",
    "\n",
    "- upper()\n",
    "- lower()\n",
    "- title()\n",
    "\n",
    "NOTE: they all can be applied on string dtype()"
   ]
  },
  {
   "cell_type": "code",
   "execution_count": null,
   "metadata": {},
   "outputs": [
    {
     "data": {
      "text/plain": [
       "'QASIM'"
      ]
     },
     "execution_count": 75,
     "metadata": {},
     "output_type": "execute_result"
    }
   ],
   "source": [
    "\"qasim\".upper()"
   ]
  },
  {
   "cell_type": "code",
   "execution_count": null,
   "metadata": {},
   "outputs": [
    {
     "data": {
      "text/plain": [
       "'qasim'"
      ]
     },
     "execution_count": 76,
     "metadata": {},
     "output_type": "execute_result"
    }
   ],
   "source": [
    "'QASIM'.lower()"
   ]
  },
  {
   "cell_type": "code",
   "execution_count": null,
   "metadata": {},
   "outputs": [
    {
     "data": {
      "text/plain": [
       "'Qasim'"
      ]
     },
     "execution_count": 77,
     "metadata": {},
     "output_type": "execute_result"
    }
   ],
   "source": [
    "\"qasim\".title()"
   ]
  },
  {
   "cell_type": "markdown",
   "metadata": {},
   "source": [
    "#### Dictionaries: How to code one\n",
    "- key:value\n"
   ]
  },
  {
   "cell_type": "code",
   "execution_count": null,
   "metadata": {},
   "outputs": [],
   "source": [
    "dict = {'age': 15,\n",
    "        'weight': 15}"
   ]
  },
  {
   "cell_type": "code",
   "execution_count": null,
   "metadata": {},
   "outputs": [
    {
     "name": "stdout",
     "output_type": "stream",
     "text": [
      "<class 'dict'>\n"
     ]
    }
   ],
   "source": [
    "print(type(dict))"
   ]
  },
  {
   "cell_type": "code",
   "execution_count": null,
   "metadata": {},
   "outputs": [
    {
     "data": {
      "text/plain": [
       "15"
      ]
     },
     "execution_count": 80,
     "metadata": {},
     "output_type": "execute_result"
    }
   ],
   "source": [
    "dict['age']"
   ]
  },
  {
   "cell_type": "code",
   "execution_count": null,
   "metadata": {},
   "outputs": [],
   "source": [
    "customer = {\"first name\": \"David\",\n",
    "            \"last name\": \"Elliott\",\n",
    "            \"address\": \"4803 Wellesley St.\"}"
   ]
  },
  {
   "cell_type": "code",
   "execution_count": null,
   "metadata": {},
   "outputs": [
    {
     "data": {
      "text/plain": [
       "'4803 Wellesley St.'"
      ]
     },
     "execution_count": 82,
     "metadata": {},
     "output_type": "execute_result"
    }
   ],
   "source": [
    "customer['address']"
   ]
  },
  {
   "cell_type": "code",
   "execution_count": null,
   "metadata": {},
   "outputs": [],
   "source": [
    "# 1- Keys can be a number \n",
    "dict_versitality1 = {1: \"Qasim\",\n",
    "                    2: \"Hassan\",\n",
    "                    3: \"Khan\"}"
   ]
  },
  {
   "cell_type": "code",
   "execution_count": null,
   "metadata": {},
   "outputs": [
    {
     "data": {
      "text/plain": [
       "'Hassan'"
      ]
     },
     "execution_count": 86,
     "metadata": {},
     "output_type": "execute_result"
    }
   ],
   "source": [
    "dict_versitality1[2]"
   ]
  },
  {
   "cell_type": "code",
   "execution_count": null,
   "metadata": {},
   "outputs": [],
   "source": [
    "# 2- Values can be a number \n",
    "dict_versitality2 = {\"Qasim\":1,\n",
    "                    \"Hassan\":2,\n",
    "                    \"Khan\":3}"
   ]
  },
  {
   "cell_type": "code",
   "execution_count": null,
   "metadata": {},
   "outputs": [
    {
     "data": {
      "text/plain": [
       "2"
      ]
     },
     "execution_count": 89,
     "metadata": {},
     "output_type": "execute_result"
    }
   ],
   "source": [
    "dict_versitality2['Hassan']"
   ]
  },
  {
   "cell_type": "code",
   "execution_count": null,
   "metadata": {},
   "outputs": [],
   "source": [
    "# 2- Keys & Values both can be a number in single dict\n",
    "things_to_remember = {0: \"the lowest number\",\n",
    "                      \"a dozen\": 12,\n",
    "                      \"snake eyes\":\"a pair of ones\",\n",
    "                      13:\"a baker's dozen\"}"
   ]
  },
  {
   "cell_type": "code",
   "execution_count": null,
   "metadata": {},
   "outputs": [],
   "source": [
    "# add valeus in dictionaries\n",
    "customer[\"phone\"] = \"+92312345678\""
   ]
  },
  {
   "cell_type": "code",
   "execution_count": null,
   "metadata": {},
   "outputs": [
    {
     "data": {
      "text/plain": [
       "{'first name': 'David',\n",
       " 'last name': 'Elliott',\n",
       " 'address': '4803 Wellesley St.',\n",
       " 'phone': '+92312345678'}"
      ]
     },
     "execution_count": 93,
     "metadata": {},
     "output_type": "execute_result"
    }
   ],
   "source": [
    "customer"
   ]
  },
  {
   "cell_type": "code",
   "execution_count": null,
   "metadata": {},
   "outputs": [],
   "source": [
    "customer['city'] = 'Karachi'"
   ]
  },
  {
   "cell_type": "code",
   "execution_count": null,
   "metadata": {},
   "outputs": [
    {
     "data": {
      "text/plain": [
       "{'first name': 'David',\n",
       " 'last name': 'Elliott',\n",
       " 'address': '4803 Wellesley St.',\n",
       " 'phone': '+92312345678',\n",
       " 'city': 'Karachi'}"
      ]
     },
     "execution_count": 95,
     "metadata": {},
     "output_type": "execute_result"
    }
   ],
   "source": [
    "customer"
   ]
  },
  {
   "cell_type": "code",
   "execution_count": null,
   "metadata": {},
   "outputs": [
    {
     "data": {
      "text/plain": [
       "{'Task 0': 'Read', 'Task 1': 'write'}"
      ]
     },
     "execution_count": 97,
     "metadata": {},
     "output_type": "execute_result"
    }
   ],
   "source": [
    "dictionary = {}\n",
    "taskCount = input(\"How many tasks you want to do today?: \")\n",
    "for count in range(int(taskCount)):\n",
    "    dictionary['Task '+str(count)] = input(\"Enter your task: \")\n",
    "dictionary"
   ]
  },
  {
   "cell_type": "code",
   "execution_count": null,
   "metadata": {},
   "outputs": [],
   "source": [
    "customer['city'] = \"LA\""
   ]
  },
  {
   "cell_type": "code",
   "execution_count": null,
   "metadata": {},
   "outputs": [
    {
     "data": {
      "text/plain": [
       "{'first name': 'David',\n",
       " 'last name': 'Elliott',\n",
       " 'address': '4803 Wellesley St.',\n",
       " 'phone': '+92312345678',\n",
       " 'city': 'LA'}"
      ]
     },
     "execution_count": 100,
     "metadata": {},
     "output_type": "execute_result"
    }
   ],
   "source": [
    "customer"
   ]
  },
  {
   "cell_type": "code",
   "execution_count": null,
   "metadata": {},
   "outputs": [],
   "source": [
    "del customer['phone'] # to delete phon from dict"
   ]
  },
  {
   "cell_type": "code",
   "execution_count": null,
   "metadata": {},
   "outputs": [
    {
     "data": {
      "text/plain": [
       "{'first name': 'David',\n",
       " 'last name': 'Elliott',\n",
       " 'address': '4803 Wellesley St.',\n",
       " 'city': 'LA'}"
      ]
     },
     "execution_count": 102,
     "metadata": {},
     "output_type": "execute_result"
    }
   ],
   "source": [
    "customer"
   ]
  },
  {
   "cell_type": "code",
   "execution_count": null,
   "metadata": {},
   "outputs": [
    {
     "name": "stdout",
     "output_type": "stream",
     "text": [
      "first name\n",
      "last name\n",
      "address\n",
      "city\n"
     ]
    }
   ],
   "source": [
    "# looping on dictionaries\n",
    "# 1. By defualt keys & also with .keys() method\n",
    "# 2. for Values we should use .values() method\n",
    "# 3. for both keys & values we should use .items() method\n",
    "for temp in customer.keys():\n",
    "    print(temp)\n"
   ]
  },
  {
   "cell_type": "code",
   "execution_count": null,
   "metadata": {},
   "outputs": [
    {
     "name": "stdout",
     "output_type": "stream",
     "text": [
      "David\n",
      "Elliott\n",
      "4803 Wellesley St.\n",
      "LA\n"
     ]
    }
   ],
   "source": [
    "for temp in customer.values():\n",
    "    print(temp)"
   ]
  },
  {
   "cell_type": "code",
   "execution_count": null,
   "metadata": {},
   "outputs": [
    {
     "name": "stdout",
     "output_type": "stream",
     "text": [
      "first name -->  David\n",
      "last name -->  Elliott\n",
      "address -->  4803 Wellesley St.\n",
      "city -->  LA\n"
     ]
    }
   ],
   "source": [
    "for key, value in customer.items():\n",
    "    print(key, \"--> \", value)"
   ]
  },
  {
   "cell_type": "code",
   "execution_count": null,
   "metadata": {},
   "outputs": [],
   "source": [
    "## list of dictionaries\n",
    "\n",
    "list_of_dict = [\n",
    "    {'first name': 'David',\n",
    "    'last name': 'Elliott',\n",
    "    'address': '4803 Wellesley St.',\n",
    "    'city': 'LA'},\n",
    "    {'first name': 'Qasim',\n",
    "    'last name': 'Hassan',\n",
    "    'address': 'Near SMIT',\n",
    "    'city': 'Karachi'},\n",
    "    {'first name': 'Hassan',\n",
    "    'last name': 'Khan',\n",
    "    'address': 'Johar town',\n",
    "    'city': 'Lahore'}\n",
    "]"
   ]
  },
  {
   "cell_type": "code",
   "execution_count": null,
   "metadata": {},
   "outputs": [
    {
     "name": "stdout",
     "output_type": "stream",
     "text": [
      "{'first name': 'David', 'last name': 'Elliott', 'address': '4803 Wellesley St.', 'city': 'LA'}\n",
      "4803 Wellesley St.\n"
     ]
    }
   ],
   "source": [
    "customer1 = list_of_dict[0]\n",
    "print(customer1)\n",
    "address_customer1 = customer1['address']\n",
    "print(address_customer1)"
   ]
  },
  {
   "cell_type": "code",
   "execution_count": null,
   "metadata": {},
   "outputs": [
    {
     "name": "stdout",
     "output_type": "stream",
     "text": [
      "4803 Wellesley St.\n",
      "Near SMIT\n",
      "Johar town\n"
     ]
    }
   ],
   "source": [
    "# for list  => Index\n",
    "# for dict => key\n",
    "for i in range(len(list_of_dict)):\n",
    "    print(list_of_dict[i]['address'])"
   ]
  },
  {
   "cell_type": "code",
   "execution_count": 33,
   "metadata": {},
   "outputs": [],
   "source": [
    "data = [\n",
    "    {\n",
    "        'name': 'Instagram',\n",
    "        'follower_count': 346,\n",
    "        'description': 'Social media platform',\n",
    "        'country': 'United States'\n",
    "    },\n",
    "    {\n",
    "        'name': 'Cristiano Ronaldo',\n",
    "        'follower_count': 215,\n",
    "        'description': 'Footballer',\n",
    "        'country': 'Portugal'\n",
    "    },\n",
    "    {\n",
    "        'name': 'Ariana Grande',\n",
    "        'follower_count': 183,\n",
    "        'description': 'Musician and actress',\n",
    "        'country': 'United States'\n",
    "    },\n",
    "    {\n",
    "        'name': 'Dwayne Johnson',\n",
    "        'follower_count': 181,\n",
    "        'description': 'Actor and professional wrestler',\n",
    "        'country': 'United States'\n",
    "    },\n",
    "    {\n",
    "        'name': 'Selena Gomez',\n",
    "        'follower_count': 174,\n",
    "        'description': 'Musician and actress',\n",
    "        'country': 'United States'\n",
    "    },\n",
    "    {\n",
    "        'name': 'Kylie Jenner',\n",
    "        'follower_count': 172,\n",
    "        'description': 'Reality TV personality and businesswoman and Self-Made Billionaire',\n",
    "        'country': 'United States'\n",
    "    },\n",
    "    {\n",
    "        'name': 'Kim Kardashian',\n",
    "        'follower_count': 167,\n",
    "        'description': 'Reality TV personality and businesswoman',\n",
    "        'country': 'United States'\n",
    "    },\n",
    "    {\n",
    "        'name': 'Lionel Messi',\n",
    "        'follower_count': 149,\n",
    "        'description': 'Footballer',\n",
    "        'country': 'Argentina'\n",
    "    },\n",
    "    {\n",
    "        'name': 'Beyoncé',\n",
    "        'follower_count': 145,\n",
    "        'description': 'Musician',\n",
    "        'country': 'United States'\n",
    "    },\n",
    "    {\n",
    "        'name': 'Neymar',\n",
    "        'follower_count': 138,\n",
    "        'description': 'Footballer',\n",
    "        'country': 'Brasil'\n",
    "    },\n",
    "    {\n",
    "        'name': 'National Geographic',\n",
    "        'follower_count': 135,\n",
    "        'description': 'Magazine',\n",
    "        'country': 'United States'\n",
    "    },\n",
    "    {\n",
    "        'name': 'Justin Bieber',\n",
    "        'follower_count': 133,\n",
    "        'description': 'Musician',\n",
    "        'country': 'Canada'\n",
    "    },\n",
    "    {\n",
    "        'name': 'Taylor Swift',\n",
    "        'follower_count': 131,\n",
    "        'description': 'Musician',\n",
    "        'country': 'United States'\n",
    "    },\n",
    "    {\n",
    "        'name': 'Kendall Jenner',\n",
    "        'follower_count': 127,\n",
    "        'description': 'Reality TV personality and Model',\n",
    "        'country': 'United States'\n",
    "    },\n",
    "    {\n",
    "        'name': 'Jennifer Lopez',\n",
    "        'follower_count': 119,\n",
    "        'description': 'Musician and actress',\n",
    "        'country': 'United States'\n",
    "    },\n",
    "    {\n",
    "        'name': 'Nicki Minaj',\n",
    "        'follower_count': 113,\n",
    "        'description': 'Musician',\n",
    "        'country': 'Trinidad and Tobago'\n",
    "    },\n",
    "    {\n",
    "        'name': 'Nike',\n",
    "        'follower_count': 109,\n",
    "        'description': 'Sportswear multinational',\n",
    "        'country': 'United States'\n",
    "    },\n",
    "    {\n",
    "        'name': 'Khloé Kardashian',\n",
    "        'follower_count': 108,\n",
    "        'description': 'Reality TV personality and businesswoman',\n",
    "        'country': 'United States'\n",
    "    },\n",
    "    {\n",
    "        'name': 'Miley Cyrus',\n",
    "        'follower_count': 107,\n",
    "        'description': 'Musician and actress',\n",
    "        'country': 'United States'\n",
    "    },\n",
    "    {\n",
    "        'name': 'Katy Perry',\n",
    "        'follower_count': 94,\n",
    "        'description': 'Musician',\n",
    "        'country': 'United States'\n",
    "    },\n",
    "    {\n",
    "        'name': 'Kourtney Kardashian',\n",
    "        'follower_count': 90,\n",
    "        'description': 'Reality TV personality',\n",
    "        'country': 'United States'\n",
    "    },\n",
    "    {\n",
    "        'name': 'Kevin Hart',\n",
    "        'follower_count': 89,\n",
    "        'description': 'Comedian and actor',\n",
    "        'country': 'United States'\n",
    "    },\n",
    "    {\n",
    "        'name': 'Ellen DeGeneres',\n",
    "        'follower_count': 87,\n",
    "        'description': 'Comedian',\n",
    "        'country': 'United States'\n",
    "    },\n",
    "    {\n",
    "        'name': 'Real Madrid CF',\n",
    "        'follower_count': 86,\n",
    "        'description': 'Football club',\n",
    "        'country': 'Spain'\n",
    "    },\n",
    "    {\n",
    "        'name': 'FC Barcelona',\n",
    "        'follower_count': 85,\n",
    "        'description': 'Football club',\n",
    "        'country': 'Spain'\n",
    "    },\n",
    "    {\n",
    "        'name': 'Rihanna',\n",
    "        'follower_count': 81,\n",
    "        'description': 'Musician and businesswoman',\n",
    "        'country': 'Barbados'\n",
    "    },\n",
    "    {\n",
    "        'name': 'Demi Lovato',\n",
    "        'follower_count': 80,\n",
    "        'description': 'Musician and actress',\n",
    "        'country': 'United States'\n",
    "    },\n",
    "    {\n",
    "        'name': \"Victoria's Secret\",\n",
    "        'follower_count': 69,\n",
    "        'description': 'Lingerie brand',\n",
    "        'country': 'United States'\n",
    "    },\n",
    "    {\n",
    "        'name': 'Zendaya',\n",
    "        'follower_count': 68,\n",
    "        'description': 'Actress and musician',\n",
    "        'country': 'United States'\n",
    "    },\n",
    "    {\n",
    "        'name': 'Shakira',\n",
    "        'follower_count': 66,\n",
    "        'description': 'Musician',\n",
    "        'country': 'Colombia'\n",
    "    },\n",
    "    {\n",
    "        'name': 'Drake',\n",
    "        'follower_count': 65,\n",
    "        'description': 'Musician',\n",
    "        'country': 'Canada'\n",
    "    },\n",
    "    {\n",
    "        'name': 'Chris Brown',\n",
    "        'follower_count': 64,\n",
    "        'description': 'Musician',\n",
    "        'country': 'United States'\n",
    "    },\n",
    "    {\n",
    "        'name': 'LeBron James',\n",
    "        'follower_count': 63,\n",
    "        'description': 'Basketball player',\n",
    "        'country': 'United States'\n",
    "    },\n",
    "    {\n",
    "        'name': 'Vin Diesel',\n",
    "        'follower_count': 62,\n",
    "        'description': 'Actor',\n",
    "        'country': 'United States'\n",
    "    },\n",
    "    {\n",
    "        'name': 'Cardi B',\n",
    "        'follower_count': 67,\n",
    "        'description': 'Musician',\n",
    "        'country': 'United States'\n",
    "    },\n",
    "    {\n",
    "        'name': 'David Beckham',\n",
    "        'follower_count': 82,\n",
    "        'description': 'Footballer',\n",
    "        'country': 'United Kingdom'\n",
    "    },\n",
    "    {\n",
    "        'name': 'Billie Eilish',\n",
    "        'follower_count': 61,\n",
    "        'description': 'Musician',\n",
    "        'country': 'United States'\n",
    "    },\n",
    "    {\n",
    "        'name': 'Justin Timberlake',\n",
    "        'follower_count': 59,\n",
    "        'description': 'Musician and actor',\n",
    "        'country': 'United States'\n",
    "    },\n",
    "    {\n",
    "        'name': 'UEFA Champions League',\n",
    "        'follower_count': 58,\n",
    "        'description': 'Club football competition',\n",
    "        'country': 'Europe'\n",
    "    },\n",
    "    {\n",
    "        'name': 'NASA',\n",
    "        'follower_count': 56,\n",
    "        'description': 'Space agency',\n",
    "        'country': 'United States'\n",
    "    },\n",
    "    {\n",
    "        'name': 'Emma Watson',\n",
    "        'follower_count': 56,\n",
    "        'description': 'Actress',\n",
    "        'country': 'United Kingdom'\n",
    "    },\n",
    "    {\n",
    "        'name': 'Shawn Mendes',\n",
    "        'follower_count': 57,\n",
    "        'description': 'Musician',\n",
    "        'country': 'Canada'\n",
    "    },\n",
    "    {\n",
    "        'name': 'Virat Kohli',\n",
    "        'follower_count': 55,\n",
    "        'description': 'Cricketer',\n",
    "        'country': 'India'\n",
    "    },\n",
    "    {\n",
    "        'name': 'Gigi Hadid',\n",
    "        'follower_count': 54,\n",
    "        'description': 'Model',\n",
    "        'country': 'United States'\n",
    "    },\n",
    "    {\n",
    "        'name': 'Priyanka Chopra Jonas',\n",
    "        'follower_count': 53,\n",
    "        'description': 'Actress and musician',\n",
    "        'country': 'India'\n",
    "    },\n",
    "    {\n",
    "        'name': '9GAG',\n",
    "        'follower_count': 52,\n",
    "        'description': 'Social media platform',\n",
    "        'country': 'China'\n",
    "    },\n",
    "    {\n",
    "        'name': 'Ronaldinho',\n",
    "        'follower_count': 51,\n",
    "        'description': 'Footballer',\n",
    "        'country': 'Brasil'\n",
    "    },\n",
    "    {\n",
    "        'name': 'Maluma',\n",
    "        'follower_count': 50,\n",
    "        'description': 'Musician',\n",
    "        'country': 'Colombia'\n",
    "    },\n",
    "    {\n",
    "        'name': 'Camila Cabello',\n",
    "        'follower_count': 49,\n",
    "        'description': 'Musician',\n",
    "        'country': 'Cuba'\n",
    "    },\n",
    "    {\n",
    "        'name': 'NBA',\n",
    "        'follower_count': 47,\n",
    "        'description': 'Club Basketball Competition',\n",
    "        'country': 'United States'\n",
    "    }\n",
    "]"
   ]
  },
  {
   "cell_type": "code",
   "execution_count": 36,
   "metadata": {},
   "outputs": [
    {
     "name": "stdout",
     "output_type": "stream",
     "text": [
      "Comapare A: LeBron James, Basketball player, from United States\n",
      "63\n",
      "vs\n",
      "Against B: UEFA Champions League, Club football competition, from Europe\n",
      "58\n",
      "a\n"
     ]
    }
   ],
   "source": []
  },
  {
   "cell_type": "code",
   "execution_count": null,
   "metadata": {},
   "outputs": [],
   "source": []
  },
  {
   "cell_type": "code",
   "execution_count": null,
   "metadata": {},
   "outputs": [],
   "source": []
  }
 ],
 "metadata": {
  "kernelspec": {
   "display_name": "Python 3 (ipykernel)",
   "language": "python",
   "name": "python3"
  },
  "language_info": {
   "codemirror_mode": {
    "name": "ipython",
    "version": 3
   },
   "file_extension": ".py",
   "mimetype": "text/x-python",
   "name": "python",
   "nbconvert_exporter": "python",
   "pygments_lexer": "ipython3",
   "version": "3.11.5"
  }
 },
 "nbformat": 4,
 "nbformat_minor": 4
}
