{
 "cells": [
  {
   "cell_type": "markdown",
   "id": "25420312-0e9b-44af-8b80-c481bc5b663d",
   "metadata": {
    "jp-MarkdownHeadingCollapsed": true
   },
   "source": [
    "## Recap"
   ]
  },
  {
   "cell_type": "code",
   "execution_count": null,
   "id": "fc4b76be-1a64-46fb-9365-74141d7e1d46",
   "metadata": {},
   "outputs": [],
   "source": [
    "Matric_pass = True\n",
    "if Matric_pass:\n",
    "    print(f\"Can proceed with the Test\")\n",
    "else:\n",
    "    print(f\"Atleast Matric is the minimum requirement\")"
   ]
  },
  {
   "cell_type": "markdown",
   "id": "c0598dbc-1a2f-4f09-a53e-234e842afce1",
   "metadata": {
    "jp-MarkdownHeadingCollapsed": true
   },
   "source": [
    "# Nested If"
   ]
  },
  {
   "cell_type": "code",
   "execution_count": 10,
   "id": "bce41d6c-e7ac-4836-a236-722320075d87",
   "metadata": {},
   "outputs": [
    {
     "name": "stdout",
     "output_type": "stream",
     "text": [
      "Can proceed with the Test\n"
     ]
    },
    {
     "name": "stdin",
     "output_type": "stream",
     "text": [
      "Write true or False Here True\n"
     ]
    },
    {
     "name": "stdout",
     "output_type": "stream",
     "text": [
      "You are eligible to take admission\n"
     ]
    }
   ],
   "source": [
    "Matric_pass = True\n",
    "if Matric_pass:\n",
    "    print(f\"Can proceed with the Test\")\n",
    "    test_cleared=input(\"Write true or False Here\")\n",
    "    if test_cleared == str(\"True\"):\n",
    "        print(f\"You are eligible to take admission\")\n",
    "    else:\n",
    "        print(f\"Sorry you are not eligible to take admission\")\n",
    "else:\n",
    "    print(f\"Atleast Matric is the minimum requirement\")"
   ]
  },
  {
   "cell_type": "markdown",
   "id": "f7122d03-7459-4e16-a7f8-024947bacdd2",
   "metadata": {},
   "source": [
    "Task 1"
   ]
  },
  {
   "cell_type": "code",
   "execution_count": 15,
   "id": "386cd226-05a4-4885-972e-1625de495b69",
   "metadata": {},
   "outputs": [
    {
     "name": "stdin",
     "output_type": "stream",
     "text": [
      "Are you matriculated?(True/False)?:  True\n",
      "Have you cleared the test?(True/False)?:  True\n"
     ]
    },
    {
     "name": "stdout",
     "output_type": "stream",
     "text": [
      "You can take admission\n"
     ]
    }
   ],
   "source": [
    "Matric_pass = bool(input(\"Are you matriculated?(True/False)?: \"))\n",
    "Test_cleared = bool(input(\"Have you cleared the test?(True/False)?: \"))\n",
    "if Matric_pass and Test_cleared:\n",
    "    print(\"You can take admission\")\n",
    "elif Matric_pass:\n",
    "    print(\"You are in waiting list\")\n",
    "else:\n",
    "    print(\"you are not eligible to take admission\")\n",
    "    "
   ]
  },
  {
   "cell_type": "markdown",
   "id": "d6027c66-ac0a-409a-8494-e215a6a3b0fd",
   "metadata": {},
   "source": [
    "# LIST"
   ]
  },
  {
   "cell_type": "code",
   "execution_count": 16,
   "id": "969b4833-7633-4e16-a5d7-8bcf968a71d8",
   "metadata": {},
   "outputs": [],
   "source": [
    "city_0 = \"Atlanta\"\n",
    "city_1 = \"Baltimore\"\n",
    "city_2 = \"Chicago\"\n",
    "city_3 = \"Denver\"\n",
    "city_4 = \"Los Angeles\"\n",
    "city_5 = \"Seattle\""
   ]
  },
  {
   "cell_type": "code",
   "execution_count": 18,
   "id": "2491c979-0d5a-4353-8619-d8ed54b03725",
   "metadata": {},
   "outputs": [
    {
     "name": "stdout",
     "output_type": "stream",
     "text": [
      "<class 'list'>\n"
     ]
    }
   ],
   "source": [
    "# list syntax\n",
    "# list_syntax=[value1, value2]\n",
    "#            0            1           2          3          4             5           \n",
    "cities = [\"Atlanta\", \"Baltimore\", \"Chicago\", \"Denver\", \"Los Angeles\", \"Seattle\"]\n",
    "#            -6          -5         -4       -3           -2             -1           \n",
    "print(type(cities))"
   ]
  },
  {
   "cell_type": "markdown",
   "id": "97219089-918a-4fb6-a5cf-465e2576d1be",
   "metadata": {},
   "source": [
    "## Slicing of list"
   ]
  },
  {
   "cell_type": "code",
   "execution_count": 19,
   "id": "85fc3dbf-23a7-44f2-a464-cce6abb04831",
   "metadata": {},
   "outputs": [
    {
     "data": {
      "text/plain": [
       "['Atlanta', 'Baltimore', 'Chicago']"
      ]
     },
     "execution_count": 19,
     "metadata": {},
     "output_type": "execute_result"
    }
   ],
   "source": [
    "#slicing from start to last index (last index will be excluded)\n",
    "cities[0:3]"
   ]
  },
  {
   "cell_type": "code",
   "execution_count": 21,
   "id": "3c95a5e9-de0d-4125-9f27-eef293e240ee",
   "metadata": {},
   "outputs": [
    {
     "data": {
      "text/plain": [
       "['Chicago', 'Denver']"
      ]
     },
     "execution_count": 21,
     "metadata": {},
     "output_type": "execute_result"
    }
   ],
   "source": [
    "#first value include and last excluded in slicing of list\n",
    "cities[2:4]"
   ]
  },
  {
   "cell_type": "code",
   "execution_count": 32,
   "id": "649ad0b6-d73c-4b01-88ec-0b269f124a2d",
   "metadata": {},
   "outputs": [
    {
     "data": {
      "text/plain": [
       "['Denver', 'Los Angeles']"
      ]
     },
     "execution_count": 32,
     "metadata": {},
     "output_type": "execute_result"
    }
   ],
   "source": [
    "cities[-3:-1] #slicing from negative of list"
   ]
  },
  {
   "cell_type": "code",
   "execution_count": 25,
   "id": "dfa43bbd-9ea2-4e31-9f35-60dbbb9f7a8a",
   "metadata": {},
   "outputs": [
    {
     "data": {
      "text/plain": [
       "['Denver', 'Los Angeles', 'Seattle']"
      ]
     },
     "execution_count": 25,
     "metadata": {},
     "output_type": "execute_result"
    }
   ],
   "source": [
    "cities[-3:]"
   ]
  },
  {
   "cell_type": "code",
   "execution_count": 29,
   "id": "2acba1d0-0d49-40c9-a2ad-499dbf31b60c",
   "metadata": {},
   "outputs": [
    {
     "data": {
      "text/plain": [
       "['Atlanta', 'Chicago', 'Los Angeles']"
      ]
     },
     "execution_count": 29,
     "metadata": {},
     "output_type": "execute_result"
    }
   ],
   "source": [
    "cities[::2] #For skipping strings by number 1"
   ]
  },
  {
   "cell_type": "code",
   "execution_count": 30,
   "id": "479b34a3-25bb-49c8-8f87-e9bc74300d04",
   "metadata": {},
   "outputs": [
    {
     "data": {
      "text/plain": [
       "['Seattle', 'Los Angeles', 'Denver', 'Chicago', 'Baltimore', 'Atlanta']"
      ]
     },
     "execution_count": 30,
     "metadata": {},
     "output_type": "execute_result"
    }
   ],
   "source": [
    "cities[::-1] # For reversing the list order"
   ]
  },
  {
   "cell_type": "markdown",
   "id": "1bc7bdfc-cde2-4794-99ad-270ce7931b18",
   "metadata": {},
   "source": [
    "## Adding and inserting Values in a list"
   ]
  },
  {
   "cell_type": "code",
   "execution_count": null,
   "id": "33dbeb43-d65f-4868-af31-2c8a07c67b49",
   "metadata": {},
   "outputs": [],
   "source": [
    "#Method 1\n",
    "cities. #Press TAB to get intelligence regarding availabe functions."
   ]
  },
  {
   "cell_type": "code",
   "execution_count": 39,
   "id": "cf1e67af-5c94-4556-86ac-4bea07a45887",
   "metadata": {},
   "outputs": [
    {
     "data": {
      "text/plain": [
       "['__add__',\n",
       " '__class__',\n",
       " '__class_getitem__',\n",
       " '__contains__',\n",
       " '__delattr__',\n",
       " '__delitem__',\n",
       " '__dir__',\n",
       " '__doc__',\n",
       " '__eq__',\n",
       " '__format__',\n",
       " '__ge__',\n",
       " '__getattribute__',\n",
       " '__getitem__',\n",
       " '__getstate__',\n",
       " '__gt__',\n",
       " '__hash__',\n",
       " '__iadd__',\n",
       " '__imul__',\n",
       " '__init__',\n",
       " '__init_subclass__',\n",
       " '__iter__',\n",
       " '__le__',\n",
       " '__len__',\n",
       " '__lt__',\n",
       " '__mul__',\n",
       " '__ne__',\n",
       " '__new__',\n",
       " '__reduce__',\n",
       " '__reduce_ex__',\n",
       " '__repr__',\n",
       " '__reversed__',\n",
       " '__rmul__',\n",
       " '__setattr__',\n",
       " '__setitem__',\n",
       " '__sizeof__',\n",
       " '__str__',\n",
       " '__subclasshook__',\n",
       " 'append',\n",
       " 'clear',\n",
       " 'copy',\n",
       " 'count',\n",
       " 'extend',\n",
       " 'index',\n",
       " 'insert',\n",
       " 'pop',\n",
       " 'remove',\n",
       " 'reverse',\n",
       " 'sort']"
      ]
     },
     "execution_count": 39,
     "metadata": {},
     "output_type": "execute_result"
    }
   ],
   "source": [
    "#Method 2\n",
    "dir(cities) #functions of list it shows all functions related to the list"
   ]
  },
  {
   "cell_type": "code",
   "execution_count": 41,
   "id": "c6ea6389-1031-4bf8-b6d4-f5dc2048c327",
   "metadata": {},
   "outputs": [
    {
     "data": {
      "text/plain": [
       "['Atlanta', 'Baltimore', 'Chicago', 'Denver', 'Los Angeles', 'Seattle']"
      ]
     },
     "execution_count": 41,
     "metadata": {},
     "output_type": "execute_result"
    }
   ],
   "source": [
    "cities = [\"Atlanta\", \"Baltimore\", \"Chicago\", \"Denver\", \"Los Angeles\", \"Seattle\"]\n",
    "cities"
   ]
  },
  {
   "cell_type": "code",
   "execution_count": 42,
   "id": "41dd8990-acc2-474a-86e9-c80f0a451b44",
   "metadata": {},
   "outputs": [],
   "source": [
    "cities.append(\"New York\") # Add a value at the end of string by default"
   ]
  },
  {
   "cell_type": "code",
   "execution_count": 43,
   "id": "c59ebdd4-27b9-486d-b0d6-647a3b68d3a9",
   "metadata": {},
   "outputs": [
    {
     "data": {
      "text/plain": [
       "['Atlanta',\n",
       " 'Baltimore',\n",
       " 'Chicago',\n",
       " 'Denver',\n",
       " 'Los Angeles',\n",
       " 'Seattle',\n",
       " 'New York']"
      ]
     },
     "execution_count": 43,
     "metadata": {},
     "output_type": "execute_result"
    }
   ],
   "source": [
    "cities"
   ]
  },
  {
   "cell_type": "code",
   "execution_count": 44,
   "id": "2678a57e-4b9d-4769-a57a-f6fe347368ea",
   "metadata": {},
   "outputs": [],
   "source": [
    "cities.insert(0,\"Texas\")"
   ]
  },
  {
   "cell_type": "code",
   "execution_count": 45,
   "id": "b175bc6a-0e55-4075-8b99-f3f1f094155e",
   "metadata": {},
   "outputs": [
    {
     "data": {
      "text/plain": [
       "['Texas',\n",
       " 'Atlanta',\n",
       " 'Baltimore',\n",
       " 'Chicago',\n",
       " 'Denver',\n",
       " 'Los Angeles',\n",
       " 'Seattle',\n",
       " 'New York']"
      ]
     },
     "execution_count": 45,
     "metadata": {},
     "output_type": "execute_result"
    }
   ],
   "source": [
    "cities"
   ]
  },
  {
   "cell_type": "code",
   "execution_count": 47,
   "id": "3153066f-796c-4374-8105-0aade2c35b3b",
   "metadata": {},
   "outputs": [
    {
     "data": {
      "text/plain": [
       "['Texas',\n",
       " 'Atlanta',\n",
       " 'Baltimore',\n",
       " 'Chicago',\n",
       " 'Denver',\n",
       " 'Los Angeles',\n",
       " 'Seattle',\n",
       " 'New York',\n",
       " 'Dallas']"
      ]
     },
     "execution_count": 47,
     "metadata": {},
     "output_type": "execute_result"
    }
   ],
   "source": [
    "cities + ['Dallas'] #It will add temporarialy "
   ]
  },
  {
   "cell_type": "code",
   "execution_count": 48,
   "id": "a621e9b2-a863-41fb-8425-145fdb4de797",
   "metadata": {},
   "outputs": [
    {
     "data": {
      "text/plain": [
       "['Texas',\n",
       " 'Atlanta',\n",
       " 'Baltimore',\n",
       " 'Chicago',\n",
       " 'Denver',\n",
       " 'Los Angeles',\n",
       " 'Seattle',\n",
       " 'New York']"
      ]
     },
     "execution_count": 48,
     "metadata": {},
     "output_type": "execute_result"
    }
   ],
   "source": [
    "cities"
   ]
  },
  {
   "cell_type": "code",
   "execution_count": 49,
   "id": "6c0d99b9-b910-4a02-bd3b-5851463108ae",
   "metadata": {},
   "outputs": [],
   "source": [
    "# For permanent add a list into another list we use:\n",
    "cities = cities + ['Dallas']"
   ]
  },
  {
   "cell_type": "code",
   "execution_count": 50,
   "id": "15f93336-a5e6-42e9-b26e-7e8f5c4adeec",
   "metadata": {},
   "outputs": [
    {
     "data": {
      "text/plain": [
       "['Texas',\n",
       " 'Atlanta',\n",
       " 'Baltimore',\n",
       " 'Chicago',\n",
       " 'Denver',\n",
       " 'Los Angeles',\n",
       " 'Seattle',\n",
       " 'New York',\n",
       " 'Dallas']"
      ]
     },
     "execution_count": 50,
     "metadata": {},
     "output_type": "execute_result"
    }
   ],
   "source": [
    "cities"
   ]
  },
  {
   "cell_type": "markdown",
   "id": "d9a0167c-c059-4c2f-b478-387c556da999",
   "metadata": {},
   "source": [
    "## Remove and delete from list"
   ]
  },
  {
   "cell_type": "code",
   "execution_count": 52,
   "id": "2db4ce7b-2aa1-4909-842f-b2da2623b58b",
   "metadata": {},
   "outputs": [],
   "source": [
    "#Method 1\n",
    "cities.remove(\"Texas\") #remove a value which you wants to delete"
   ]
  },
  {
   "cell_type": "code",
   "execution_count": 53,
   "id": "7408c4bb-3435-4e51-8d1c-f1ce081b5b4f",
   "metadata": {},
   "outputs": [
    {
     "data": {
      "text/plain": [
       "['Atlanta',\n",
       " 'Baltimore',\n",
       " 'Chicago',\n",
       " 'Denver',\n",
       " 'Los Angeles',\n",
       " 'Seattle',\n",
       " 'New York',\n",
       " 'Dallas']"
      ]
     },
     "execution_count": 53,
     "metadata": {},
     "output_type": "execute_result"
    }
   ],
   "source": [
    "cities"
   ]
  },
  {
   "cell_type": "code",
   "execution_count": 54,
   "id": "7fdd895b-1cf7-44ed-9939-ca9e549701c8",
   "metadata": {},
   "outputs": [
    {
     "data": {
      "text/plain": [
       "['Atlanta',\n",
       " 'Baltimore',\n",
       " 'Chicago',\n",
       " 'Denver',\n",
       " 'Los Angeles',\n",
       " 'Seattle',\n",
       " 'New York',\n",
       " 'Dallas']"
      ]
     },
     "execution_count": 54,
     "metadata": {},
     "output_type": "execute_result"
    }
   ],
   "source": [
    "cities"
   ]
  },
  {
   "cell_type": "code",
   "execution_count": 55,
   "id": "6376dee7-f36a-4dce-a172-0d08f324aac5",
   "metadata": {},
   "outputs": [],
   "source": [
    "del(cities[0]) #delete particular value by index method"
   ]
  },
  {
   "cell_type": "code",
   "execution_count": 56,
   "id": "162110c0-50d0-4813-a035-14e06f34f129",
   "metadata": {},
   "outputs": [
    {
     "data": {
      "text/plain": [
       "['Baltimore',\n",
       " 'Chicago',\n",
       " 'Denver',\n",
       " 'Los Angeles',\n",
       " 'Seattle',\n",
       " 'New York',\n",
       " 'Dallas']"
      ]
     },
     "execution_count": 56,
     "metadata": {},
     "output_type": "execute_result"
    }
   ],
   "source": [
    "cities"
   ]
  },
  {
   "cell_type": "markdown",
   "id": "767a2c43-1d06-4fb7-b3d1-a8d292f9a98d",
   "metadata": {},
   "source": [
    "## Poping values from LIst"
   ]
  },
  {
   "cell_type": "code",
   "execution_count": 57,
   "id": "fcf7a583-6f48-416d-8b5a-bf360be8f19a",
   "metadata": {},
   "outputs": [],
   "source": [
    "holding_pop_city=cities.pop() #Value will remove from list and store in given variable"
   ]
  },
  {
   "cell_type": "code",
   "execution_count": 58,
   "id": "c54fac66-39aa-4dfa-b3a9-a58b766d0906",
   "metadata": {},
   "outputs": [
    {
     "data": {
      "text/plain": [
       "['Baltimore', 'Chicago', 'Denver', 'Los Angeles', 'Seattle', 'New York']"
      ]
     },
     "execution_count": 58,
     "metadata": {},
     "output_type": "execute_result"
    }
   ],
   "source": [
    "cities"
   ]
  },
  {
   "cell_type": "code",
   "execution_count": 59,
   "id": "e7e9b0e0-93ee-4fb9-ad21-22ab16d9b742",
   "metadata": {},
   "outputs": [
    {
     "data": {
      "text/plain": [
       "'Dallas'"
      ]
     },
     "execution_count": 59,
     "metadata": {},
     "output_type": "execute_result"
    }
   ],
   "source": [
    "holding_pop_city"
   ]
  },
  {
   "cell_type": "code",
   "execution_count": 62,
   "id": "4c4ecc3b-49e3-4804-be57-fe2e0f5b8111",
   "metadata": {},
   "outputs": [],
   "source": [
    "holding_pop_city=cities.pop(-1)"
   ]
  },
  {
   "cell_type": "code",
   "execution_count": 63,
   "id": "1079f8d1-e523-4080-a479-b23f9acb5f76",
   "metadata": {},
   "outputs": [
    {
     "data": {
      "text/plain": [
       "'New York'"
      ]
     },
     "execution_count": 63,
     "metadata": {},
     "output_type": "execute_result"
    }
   ],
   "source": [
    "holding_pop_city"
   ]
  },
  {
   "cell_type": "code",
   "execution_count": 75,
   "id": "f8902157-3130-4921-9d38-27cbd65e873c",
   "metadata": {},
   "outputs": [
    {
     "name": "stdout",
     "output_type": "stream",
     "text": [
      "['praying', 'breakfast']\n"
     ]
    }
   ],
   "source": [
    "Tasks =['praying', 'running','breakfast', 'studying','eating']\n",
    "task_done = []\n",
    "task_done.append(Tasks.pop(0))\n",
    "task_done.append(Tasks.pop(1))\n",
    "print(task_done)"
   ]
  },
  {
   "cell_type": "code",
   "execution_count": 84,
   "id": "6b834e1d-8e6a-4875-adf9-7fc68668b0e8",
   "metadata": {},
   "outputs": [
    {
     "name": "stdout",
     "output_type": "stream",
     "text": [
      "['running', 'studying', 'eating']\n",
      "['running', 'studying', 'eating', 'Pakistan']\n"
     ]
    }
   ],
   "source": [
    "import copy\n",
    "todolist=copy.copy(Tasks)\n",
    "Tasks.append(\"Pakistan\")\n",
    "print(todolist)\n",
    "print(Tasks)"
   ]
  },
  {
   "cell_type": "code",
   "execution_count": 80,
   "id": "3dc3ec75-8877-42dc-bf80-9c3b6e431c42",
   "metadata": {},
   "outputs": [
    {
     "name": "stdout",
     "output_type": "stream",
     "text": [
      "li2 ID:  2366594563840 Value:  [1, 2, [3, 5], 4]\n",
      "li3 ID:  2366594551552 Value:  [1, 2, [3, 5], 4]\n"
     ]
    }
   ],
   "source": [
    "\n"
   ]
  },
  {
   "cell_type": "code",
   "execution_count": null,
   "id": "c258776d-c687-41a0-810e-84fc91ea534d",
   "metadata": {},
   "outputs": [],
   "source": []
  }
 ],
 "metadata": {
  "kernelspec": {
   "display_name": "Python 3 (ipykernel)",
   "language": "python",
   "name": "python3"
  },
  "language_info": {
   "codemirror_mode": {
    "name": "ipython",
    "version": 3
   },
   "file_extension": ".py",
   "mimetype": "text/x-python",
   "name": "python",
   "nbconvert_exporter": "python",
   "pygments_lexer": "ipython3",
   "version": "3.11.7"
  }
 },
 "nbformat": 4,
 "nbformat_minor": 5
}
