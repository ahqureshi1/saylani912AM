{
 "cells": [
  {
   "cell_type": "code",
   "execution_count": 4,
   "id": "0c436876-816e-420f-8ac7-12599a971de7",
   "metadata": {},
   "outputs": [
    {
     "data": {
      "text/plain": [
       "dict_keys(['first_name', 'last_name', 'address'])"
      ]
     },
     "execution_count": 4,
     "metadata": {},
     "output_type": "execute_result"
    }
   ],
   "source": [
    "personal_bio = {\"first_name\":\"Abdul Haseeb\",\n",
    "                \"last_name\": \"Qureshi\",\n",
    "                \"address\" : \"Karachi, Pakistan\",\n",
    "               }\n",
    "personal_bio.keys()"
   ]
  },
  {
   "cell_type": "code",
   "execution_count": 5,
   "id": "0e6252e9-e038-49be-b958-f75f3dce0515",
   "metadata": {},
   "outputs": [
    {
     "data": {
      "text/plain": [
       "dict_items([('first_name', 'Abdul Haseeb'), ('last_name', 'Qureshi'), ('address', 'Karachi, Pakistan')])"
      ]
     },
     "execution_count": 5,
     "metadata": {},
     "output_type": "execute_result"
    }
   ],
   "source": [
    "personal_bio.items()"
   ]
  },
  {
   "cell_type": "code",
   "execution_count": 15,
   "id": "8ffc898b-d14e-4cbd-b30f-1f7b98d61368",
   "metadata": {},
   "outputs": [
    {
     "name": "stdout",
     "output_type": "stream",
     "text": [
      "keys is \"first_name\" and value is \"Abdul Haseeb\" \n",
      "keys is \"last_name\" and value is \"Qureshi\" \n",
      "keys is \"address\" and value is \"Karachi, Pakistan\" \n"
     ]
    }
   ],
   "source": [
    "for key,value in personal_bio.items():\n",
    "    print(f\"keys is \\\"{key}\\\" and value is \\\"{value}\\\" \")"
   ]
  },
  {
   "cell_type": "code",
   "execution_count": 17,
   "id": "d4461d3b-0d0d-440e-8fe9-792edc4b79f3",
   "metadata": {},
   "outputs": [
    {
     "data": {
      "text/plain": [
       "'first_name'"
      ]
     },
     "execution_count": 17,
     "metadata": {},
     "output_type": "execute_result"
    }
   ],
   "source": [
    "#Dict item is not subcriptable\n",
    "list(personal_bio.items())[0][0]"
   ]
  },
  {
   "cell_type": "code",
   "execution_count": 18,
   "id": "6d6426f5-109d-4d8d-907e-1d1b2a377cb0",
   "metadata": {},
   "outputs": [],
   "source": [
    "bio_list = [personal_bio]"
   ]
  },
  {
   "cell_type": "code",
   "execution_count": 19,
   "id": "f51edc4f-9906-4949-ab76-f44602447294",
   "metadata": {},
   "outputs": [
    {
     "name": "stdout",
     "output_type": "stream",
     "text": [
      "[{'first_name': 'Abdul Haseeb', 'last_name': 'Qureshi', 'address': 'Karachi, Pakistan'}]\n"
     ]
    }
   ],
   "source": [
    "print(bio_list)"
   ]
  },
  {
   "cell_type": "code",
   "execution_count": 22,
   "id": "1b9e28b0-fdb1-40f0-bddc-91d8eeab2fe6",
   "metadata": {},
   "outputs": [
    {
     "name": "stdout",
     "output_type": "stream",
     "text": [
      "4803 Wellesley St.\n",
      "Near SMIT\n",
      "Johar town\n"
     ]
    }
   ],
   "source": [
    "list_of_dict = [\n",
    "    {'first name': 'David',\n",
    "    'last name': 'Elliott',\n",
    "    'address': '4803 Wellesley St.',\n",
    "    'city': 'LA'},\n",
    "    {'first name': 'Qasim',\n",
    "    'last name': 'Hassan',\n",
    "    'address': 'Near SMIT',\n",
    "    'city': 'Karachi'},\n",
    "    {'first name': 'Hassan',\n",
    "    'last name': 'Khan',\n",
    "    'address': 'Johar town',\n",
    "    'city': 'Lahore'}\n",
    "]\n",
    "for user in list_of_dict:\n",
    "   print(user[\"address\"])"
   ]
  },
  {
   "cell_type": "code",
   "execution_count": 23,
   "id": "0980e452-68b2-4351-9164-99997280b832",
   "metadata": {},
   "outputs": [],
   "source": [
    "list_of_dict.append (personal_bio)"
   ]
  },
  {
   "cell_type": "code",
   "execution_count": 24,
   "id": "5e294f6b-a244-4751-94e2-4799dde0255c",
   "metadata": {},
   "outputs": [
    {
     "name": "stdout",
     "output_type": "stream",
     "text": [
      "[{'first name': 'David', 'last name': 'Elliott', 'address': '4803 Wellesley St.', 'city': 'LA'}, {'first name': 'Qasim', 'last name': 'Hassan', 'address': 'Near SMIT', 'city': 'Karachi'}, {'first name': 'Hassan', 'last name': 'Khan', 'address': 'Johar town', 'city': 'Lahore'}, {'first_name': 'Abdul Haseeb', 'last_name': 'Qureshi', 'address': 'Karachi, Pakistan'}]\n"
     ]
    }
   ],
   "source": [
    "print(list_of_dict)"
   ]
  },
  {
   "cell_type": "code",
   "execution_count": 25,
   "id": "7372d7e1-1a0b-4f04-b96c-7bc494058065",
   "metadata": {},
   "outputs": [
    {
     "data": {
      "text/plain": [
       "4"
      ]
     },
     "execution_count": 25,
     "metadata": {},
     "output_type": "execute_result"
    }
   ],
   "source": [
    "len(list_of_dict)"
   ]
  },
  {
   "cell_type": "code",
   "execution_count": 31,
   "id": "d771e37c-7a9c-4b9d-9b29-92e907e247b0",
   "metadata": {},
   "outputs": [],
   "source": [
    "customer_dict = {\n",
    "                0:\n",
    "                {'first name': 'David',\n",
    "                'last name': 'Elliott',\n",
    "                'address': '4803 Wellesley St.',\n",
    "                'city': 'LA'},\n",
    "                1:\n",
    "                {'first name': 'Qasim',\n",
    "                'last name': 'Hassan',\n",
    "                'address': 'Near SMIT',\n",
    "                'city': 'Karachi'},\n",
    "                2:\n",
    "                {'first name': 'Hassan',\n",
    "                'last name': 'Khan',\n",
    "                'address': 'Johar town',\n",
    "                'city': 'Lahore'},\n",
    "                3:\n",
    "                 {'first name': 'Haseeb',\n",
    "                'last name': 'Qureshi',\n",
    "                'address': 'Lyari town',\n",
    "                'city': 'Karachi'}\n",
    "}\n"
   ]
  },
  {
   "cell_type": "code",
   "execution_count": 32,
   "id": "8ee9361b-b5ba-465a-95d0-cd32531d3d44",
   "metadata": {},
   "outputs": [
    {
     "name": "stdout",
     "output_type": "stream",
     "text": [
      "{0: {'first name': 'David', 'last name': 'Elliott', 'address': '4803 Wellesley St.', 'city': 'LA'}, 1: {'first name': 'Qasim', 'last name': 'Hassan', 'address': 'Near SMIT', 'city': 'Karachi'}, 2: {'first name': 'Hassan', 'last name': 'Khan', 'address': 'Johar town', 'city': 'Lahore'}, 3: {'first name': 'Haseeb', 'last name': 'Qureshi', 'address': 'Lyari town', 'city': 'Karachi'}}\n"
     ]
    }
   ],
   "source": [
    "print(customer_dict)"
   ]
  },
  {
   "cell_type": "code",
   "execution_count": 38,
   "id": "79263534-65f8-41a2-877e-0398fa604117",
   "metadata": {},
   "outputs": [
    {
     "name": "stdout",
     "output_type": "stream",
     "text": [
      "0\n",
      "4803 Wellesley St.\n",
      "1\n",
      "Near SMIT\n",
      "2\n",
      "Johar town\n",
      "3\n",
      "Lyari town\n"
     ]
    }
   ],
   "source": [
    "for customer in customer_dict:\n",
    "    print(customer)\n",
    "    print(customer_dict[customer][\"address\"])"
   ]
  },
  {
   "cell_type": "code",
   "execution_count": 39,
   "id": "2c8448f6-d40d-4ea5-8cca-993cf3e703c5",
   "metadata": {},
   "outputs": [
    {
     "data": {
      "text/plain": [
       "4"
      ]
     },
     "execution_count": 39,
     "metadata": {},
     "output_type": "execute_result"
    }
   ],
   "source": [
    "len(customer_dict)"
   ]
  },
  {
   "cell_type": "code",
   "execution_count": 48,
   "id": "1565e1f6-ca2b-448d-90e1-2a66699510d7",
   "metadata": {},
   "outputs": [
    {
     "name": "stdout",
     "output_type": "stream",
     "text": [
      "0 : 4803 Wellesley St.\n",
      "1 : Near SMIT\n",
      "2 : Johar town\n",
      "3 : Lyari town\n"
     ]
    }
   ],
   "source": [
    "for i in range(len(customer_dict)):\n",
    "    print(f\"{i} : {customer_dict[i]['address']}\")"
   ]
  },
  {
   "cell_type": "code",
   "execution_count": 61,
   "id": "d666f037-738a-475a-8b31-c7265166dcae",
   "metadata": {},
   "outputs": [
    {
     "name": "stdout",
     "output_type": "stream",
     "text": [
      "0\n",
      "4803 Wellesley St.\n",
      "1\n",
      "Near SMIT\n",
      "2\n",
      "Johar town\n",
      "3\n",
      "Lyari town\n"
     ]
    }
   ],
   "source": [
    "for key, value in customer_dict.items():\n",
    "    print(key)\n",
    "    print(value[\"address\"])"
   ]
  },
  {
   "cell_type": "code",
   "execution_count": 73,
   "id": "62a77a63-1c54-4721-8822-d35db4d77b4d",
   "metadata": {},
   "outputs": [
    {
     "name": "stdout",
     "output_type": "stream",
     "text": [
      "Key is: 0\n",
      "Value is: 4803 Wellesley St.\n",
      "Address of key 0 is 4803 Wellesley St.\n",
      "---------\n",
      "value is :{'first name': 'David', 'last name': 'Elliott', 'address': '4803 Wellesley St.', 'city': 'LA'}\n",
      "Addressof value{'first name': 'David', 'last name': 'Elliott', 'address': '4803 Wellesley St.', 'city': 'LA'} is (value['address'])\n",
      ".....End of Loop.....\n",
      "Key is: 1\n",
      "Value is: Near SMIT\n",
      "Address of key 1 is Near SMIT\n",
      "---------\n",
      "value is :{'first name': 'Qasim', 'last name': 'Hassan', 'address': 'Near SMIT', 'city': 'Karachi'}\n",
      "Addressof value{'first name': 'Qasim', 'last name': 'Hassan', 'address': 'Near SMIT', 'city': 'Karachi'} is (value['address'])\n",
      ".....End of Loop.....\n",
      "Key is: 2\n",
      "Value is: Johar town\n",
      "Address of key 2 is Johar town\n",
      "---------\n",
      "value is :{'first name': 'Hassan', 'last name': 'Khan', 'address': 'Johar town', 'city': 'Lahore'}\n",
      "Addressof value{'first name': 'Hassan', 'last name': 'Khan', 'address': 'Johar town', 'city': 'Lahore'} is (value['address'])\n",
      ".....End of Loop.....\n",
      "Key is: 3\n",
      "Value is: Lyari town\n",
      "Address of key 3 is Lyari town\n",
      "---------\n",
      "value is :{'first name': 'Haseeb', 'last name': 'Qureshi', 'address': 'Lyari town', 'city': 'Karachi'}\n",
      "Addressof value{'first name': 'Haseeb', 'last name': 'Qureshi', 'address': 'Lyari town', 'city': 'Karachi'} is (value['address'])\n",
      ".....End of Loop.....\n"
     ]
    }
   ],
   "source": [
    "for key, value in customer_dict.items():\n",
    "    print(f\"Key is: {key}\")\n",
    "    print(f\"Value is: {value['address']}\")\n",
    "    print(f\"Address of key {key} is {customer_dict[key]['address']}\")\n",
    "    print(\"---------\")\n",
    "    print(f\"value is :{value}\")\n",
    "    print(f\"Addressof value{value} is (value['address'])\")\n",
    "    print(\".....End of Loop.....\")"
   ]
  },
  {
   "cell_type": "code",
   "execution_count": 90,
   "id": "79ad8af9-2a5f-40aa-9c3d-d4bfb0e9d57b",
   "metadata": {},
   "outputs": [],
   "source": [
    "saylani = {\"python\":{\"timings\":\"M W F\", \n",
    "                     \"instructor\":\"Ayan\"},\n",
    "          \"data engineering\":{\"timings\": \"T T S\",\n",
    "                             \"instructor\":\"Dawood\"}\n",
    "          }"
   ]
  },
  {
   "cell_type": "code",
   "execution_count": 91,
   "id": "40c7335a-a17b-469b-a72f-e359d90e0e37",
   "metadata": {},
   "outputs": [
    {
     "name": "stdout",
     "output_type": "stream",
     "text": [
      "{'python': {'timings': 'M W F', 'instructor': 'Ayan'}, 'data engineering': {'timings': 'T T S', 'instructor': 'Dawood'}}\n"
     ]
    }
   ],
   "source": [
    "print(saylani)"
   ]
  },
  {
   "cell_type": "code",
   "execution_count": 99,
   "id": "e868f4c5-aadd-4a45-ba4a-c48c8c3c83f3",
   "metadata": {},
   "outputs": [
    {
     "name": "stdout",
     "output_type": "stream",
     "text": [
      "Ayan\n",
      "Dawood\n"
     ]
    }
   ],
   "source": [
    "for key in saylani.keys():\n",
    "    print(saylani[key]['instructor'])"
   ]
  },
  {
   "cell_type": "code",
   "execution_count": 102,
   "id": "36fee48c-1e90-4fe5-a874-d1e3c5aae07d",
   "metadata": {},
   "outputs": [
    {
     "name": "stdout",
     "output_type": "stream",
     "text": [
      "Ayan\n",
      "Dawood\n"
     ]
    }
   ],
   "source": [
    "for value in saylani.values():\n",
    "    print(value['instructor'])"
   ]
  },
  {
   "cell_type": "code",
   "execution_count": 107,
   "id": "c141fe35-aee9-4945-aedf-cb759ca20faa",
   "metadata": {},
   "outputs": [
    {
     "name": "stdout",
     "output_type": "stream",
     "text": [
      "Ayan\n",
      "Dawood\n"
     ]
    }
   ],
   "source": [
    "for key,value in saylani.items():\n",
    "    print(saylani[key]['instructor'])"
   ]
  },
  {
   "cell_type": "code",
   "execution_count": 109,
   "id": "ae3e016f-584b-4093-838c-2d160ceaafd2",
   "metadata": {},
   "outputs": [
    {
     "name": "stdout",
     "output_type": "stream",
     "text": [
      "7\n"
     ]
    }
   ],
   "source": [
    "def add(a,b):\n",
    "    print(a+b)\n",
    "add(2,5) "
   ]
  },
  {
   "cell_type": "code",
   "execution_count": null,
   "id": "4b9784ec-9799-42db-9186-e968e21f85be",
   "metadata": {},
   "outputs": [],
   "source": [
    "# omdena.com "
   ]
  }
 ],
 "metadata": {
  "kernelspec": {
   "display_name": "Python 3 (ipykernel)",
   "language": "python",
   "name": "python3"
  },
  "language_info": {
   "codemirror_mode": {
    "name": "ipython",
    "version": 3
   },
   "file_extension": ".py",
   "mimetype": "text/x-python",
   "name": "python",
   "nbconvert_exporter": "python",
   "pygments_lexer": "ipython3",
   "version": "3.11.7"
  }
 },
 "nbformat": 4,
 "nbformat_minor": 5
}
