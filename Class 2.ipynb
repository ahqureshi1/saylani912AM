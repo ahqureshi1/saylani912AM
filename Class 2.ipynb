{
 "cells": [
  {
   "cell_type": "markdown",
   "id": "c6478313-c69a-4bef-8636-87b519796218",
   "metadata": {},
   "source": [
    "# Python Class 2"
   ]
  },
  {
   "cell_type": "code",
   "execution_count": 2,
   "id": "94185daf-738a-4115-be93-44262b7a5740",
   "metadata": {},
   "outputs": [
    {
     "name": "stdout",
     "output_type": "stream",
     "text": [
      "Sylani Class 2\n"
     ]
    }
   ],
   "source": [
    "print(\"Sylani Class 2\")"
   ]
  },
  {
   "cell_type": "markdown",
   "id": "7e88b380-4401-4f18-ab6d-4cbcb2d393de",
   "metadata": {},
   "source": [
    "Audi_Student\n",
    "saylanismit\n",
    "aiwithqasim-----github \n",
    "cmd\n",
    "conda --version\n",
    "python --version\n",
    "conda create --name abcd\n",
    "conda activate env-python-912\n",
    "conda env list\n",
    "exit()\n",
    "jupyter notebook\n"
   ]
  },
  {
   "cell_type": "code",
   "execution_count": 31,
   "id": "89c9b4de-c162-47b8-b66e-291113cf41b3",
   "metadata": {},
   "outputs": [
    {
     "name": "stdout",
     "output_type": "stream",
     "text": [
      "He said,\"Today is off\"\n",
      "2\n"
     ]
    }
   ],
   "source": [
    "# using forward slash\n",
    "print(\"He said,\\\"Today is off\\\"\")\n"
   ]
  },
  {
   "cell_type": "code",
   "execution_count": 21,
   "id": "e0bdc43f-9dda-43e5-85b0-18ece187645e",
   "metadata": {},
   "outputs": [
    {
     "name": "stdout",
     "output_type": "stream",
     "text": [
      "Aslam is a good boy Aslam is a good boy Aslam is a good boy Aslam is a good boy Aslam is a good boy Aslam is a good boyAslam is a good boy Aslam is a good boyAslam is a good boyAslam is a good boy\n",
      "Aslam is a good boyAslam is a good boyAslam is a good boyAslam is a good boyAslam is a good boyAslam is a good boyAslam is a good boy\n"
     ]
    }
   ],
   "source": [
    "# For Paragraph we use ''' at start and ''' at end\n",
    "print('''Aslam is a good boy Aslam is a good boy Aslam is a good boy Aslam is a good boy Aslam is a good boy Aslam is a good boyAslam is a good boy Aslam is a good boyAslam is a good boyAslam is a good boy\n",
    "Aslam is a good boyAslam is a good boyAslam is a good boyAslam is a good boyAslam is a good boyAslam is a good boyAslam is a good boy''')"
   ]
  },
  {
   "cell_type": "code",
   "execution_count": 35,
   "id": "f45ea295-f17f-44f9-b67a-a94774104e24",
   "metadata": {},
   "outputs": [
    {
     "name": "stdout",
     "output_type": "stream",
     "text": [
      "2.5\n",
      "3\n"
     ]
    }
   ],
   "source": [
    "import math\n",
    "x=5/2\n",
    "print(x)\n",
    "print(math.ceil(x))"
   ]
  },
  {
   "cell_type": "markdown",
   "id": "9a6229bd-b79c-4281-9ec2-a11f7ed2d510",
   "metadata": {},
   "source": [
    "### Keywords\n",
    "- True, False\n",
    "- import\n",
    "- def\n",
    "- if, else, elif"
   ]
  },
  {
   "cell_type": "code",
   "execution_count": 42,
   "id": "c368e590-d2c5-4fe0-ac80-7a81ea01eb01",
   "metadata": {},
   "outputs": [
    {
     "name": "stdin",
     "output_type": "stream",
     "text": [
      "Write your age? 45\n"
     ]
    },
    {
     "name": "stdout",
     "output_type": "stream",
     "text": [
      "your age is  45\n",
      "Sorry you cannot get admission in Sylani\n"
     ]
    }
   ],
   "source": [
    "age = int(input(\"Write your age?\"))\n",
    "print(\"your age is \",age ) #comma is also used for typecasting automatically\n",
    "if age%2==0:\n",
    "    print(\"You can get admission in sylani\")\n",
    "else:\n",
    "    print(\"Sorry you cannot get admission in Sylani\")\n",
    "    \n",
    "        "
   ]
  },
  {
   "cell_type": "code",
   "execution_count": null,
   "id": "71eb83e0-8a87-42a9-92c8-a0b577fb12d4",
   "metadata": {},
   "outputs": [],
   "source": []
  }
 ],
 "metadata": {
  "kernelspec": {
   "display_name": "Python 3 (ipykernel)",
   "language": "python",
   "name": "python3"
  },
  "language_info": {
   "codemirror_mode": {
    "name": "ipython",
    "version": 3
   },
   "file_extension": ".py",
   "mimetype": "text/x-python",
   "name": "python",
   "nbconvert_exporter": "python",
   "pygments_lexer": "ipython3",
   "version": "3.11.7"
  }
 },
 "nbformat": 4,
 "nbformat_minor": 5
}
